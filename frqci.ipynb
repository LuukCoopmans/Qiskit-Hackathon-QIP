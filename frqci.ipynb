{
 "cells": [
  {
   "cell_type": "code",
   "execution_count": 117,
   "metadata": {},
   "outputs": [],
   "source": [
    "import numpy as np\n",
    "from qiskit import *\n",
    "import cv2\n",
    "%matplotlib inline\n",
    "\n",
    "def I(cim, N):\n",
    "    c = np.zeros((N, 2), dtype=np.complex)\n",
    "    theta = np.zeros(N)\n",
    "    phi = np.zeros(N) # All 0 for now\n",
    "\n",
    "    # Get array of thetas, from Eq 6.\n",
    "    for k in range(N):\n",
    "        theta[k] = (cim[k][0]*(2**16) + cim[k][1]*(2**8) + cim[k][2])*np.pi/((2**24)-1)\n",
    "\n",
    "    for k in range(N):\n",
    "        c[k] = [np.cos(theta[k]/2), np.exp(1j*phi[k])*np.sin(theta[k]/2)]\n",
    "        \n",
    "    # Define basis states; there are 2^(2n) of them\n",
    "    basis_state = np.diag(np.ones(N))\n",
    "    \n",
    "    # Store the image as a state\n",
    "    state = np.zeros(2*N)\n",
    "    for k in range(N):\n",
    "        state = state + np.kron(basis_state[k], c[k])\n",
    "        \n",
    "    return (1/(2**n))*state\n",
    "\n",
    "n = 1\n",
    "height = 2**n\n",
    "width = 2**n\n",
    "N = 2**(2*n)\n",
    "\n",
    "cim = np.zeros((N, 3), dtype=np.uint8) # classical image stored as (1d) array of rgb values\n",
    "cim = [[128, 0, 0], [0, 128, 0], [0, 0, 128], [128, 127, 128]] # Input image"
   ]
  },
  {
   "cell_type": "code",
   "execution_count": 118,
   "metadata": {},
   "outputs": [],
   "source": [
    "quantum_image = I(cim, N)\n",
    "# print(cim)\n",
    "# print(quantum_image)"
   ]
  },
  {
   "cell_type": "code",
   "execution_count": 119,
   "metadata": {},
   "outputs": [
    {
     "name": "stdout",
     "output_type": "stream",
     "text": [
      "[[128   0   0]\n",
      " [  0 128   0]\n",
      " [  0   0 128]\n",
      " [128 127 128]]\n"
     ]
    }
   ],
   "source": [
    "theta_out = np.zeros(N)\n",
    "basis_state = np.diag(np.ones(N))\n",
    "rgb_out = np.zeros((N, 3), dtype=np.uint8)\n",
    "\n",
    "for k in range(N):\n",
    "    # Implementing equation 61\n",
    "    p1 = np.outer(np.kron(basis_state[k], [0, 1]),np.kron(basis_state[k],[0, 1]))\n",
    "    pm1 = np.real(quantum_image.T.conj() @ p1 @ quantum_image)\n",
    "    # print(pm1)\n",
    "    theta_out[k] = 2*np.arcsin(np.sqrt((2**(2*n))*pm1))\n",
    "    \n",
    "    # eq 62-64\n",
    "    cr = np.int((256*256*256 - 1)*theta_out[k]/(256*256*np.pi))\n",
    "    cg = np.int((((256*256*256 - 1)*theta_out[k]/np.pi) - cr*256*256)/256)\n",
    "    cb = np.int(((256*256*256 - 1)*theta_out[k]/np.pi) - cr*256*256 - cg*256)\n",
    "    \n",
    "    rgb_out[k] = [np.int(cr), np.int(cg), np.int(cb)]\n",
    "    \n",
    "print(rgb_out) # Output should match input image further up the page"
   ]
  },
  {
   "cell_type": "code",
   "execution_count": 19,
   "metadata": {},
   "outputs": [],
   "source": [
    "# # Make images\n",
    "# from PIL import Image\n",
    "\n",
    "# for k in range(cim.shape[0]):\n",
    "#     cim[k][0] = 255*(k%2)\n",
    "# img = Image.fromarray(cim)\n",
    "# img.save('testrgb.png')"
   ]
  },
  {
   "cell_type": "code",
   "execution_count": null,
   "metadata": {},
   "outputs": [],
   "source": [
    "# from itertools import product\n",
    "\n",
    "# def kron(v):\n",
    "#     length = v.shape[0]\n",
    "#     if length == 1:\n",
    "#         return v[0]\n",
    "#     else:\n",
    "#         a0 = v[0]        \n",
    "#     for i in range(1, length):\n",
    "#         a0 = np.kron(a0, v[i])\n",
    "#     return a0\n",
    "\n",
    "# basis_state_temp = np.array(list(product([[1,0], [0,1]], repeat=2*n)))"
   ]
  }
 ],
 "metadata": {
  "kernelspec": {
   "display_name": "Python 3",
   "language": "python",
   "name": "python3"
  },
  "language_info": {
   "codemirror_mode": {
    "name": "ipython",
    "version": 3
   },
   "file_extension": ".py",
   "mimetype": "text/x-python",
   "name": "python",
   "nbconvert_exporter": "python",
   "pygments_lexer": "ipython3",
   "version": "3.8.5"
  }
 },
 "nbformat": 4,
 "nbformat_minor": 4
}
