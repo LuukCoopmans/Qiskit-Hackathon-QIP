{
 "cells": [
  {
   "cell_type": "markdown",
   "metadata": {},
   "source": [
    "# Quantum Watermarking - greyscale"
   ]
  },
  {
   "cell_type": "code",
   "execution_count": 1,
   "metadata": {},
   "outputs": [],
   "source": [
    "import numpy as np\n",
    "from matplotlib import pyplot as plt\n",
    "import os\n",
    "import cv2\n",
    "from qiskit import *"
   ]
  },
  {
   "cell_type": "code",
   "execution_count": 2,
   "metadata": {},
   "outputs": [],
   "source": [
    "C_Image = np.zeros([2,2,3]) # (x,y,RGB)\n",
    "\n",
    "C_Image[0,0,:] = (0,   128, 128)\n",
    "C_Image[0,1,:] = (128, 0,   128)\n",
    "C_Image[1,0,:] = (128, 128, 0)\n",
    "C_Image[1,1,:] = (128, 128, 128)"
   ]
  },
  {
   "cell_type": "code",
   "execution_count": 3,
   "metadata": {},
   "outputs": [
    {
     "data": {
      "text/plain": [
       "array([[ 89.728 ,  52.8512],\n",
       "       [113.3952, 127.9872]])"
      ]
     },
     "execution_count": 3,
     "metadata": {},
     "output_type": "execute_result"
    }
   ],
   "source": [
    "def rgb2gray(rgb):\n",
    "    return np.dot(rgb[...,:3], [0.2989, 0.5870, 0.1140])\n",
    "\n",
    "C_Image = rgb2gray(C_Image)\n",
    "C_Image"
   ]
  },
  {
   "cell_type": "code",
   "execution_count": 4,
   "metadata": {},
   "outputs": [
    {
     "data": {
      "image/png": "[encoded data removed]",
      "text/plain": [
       "<Figure size 432x288 with 1 Axes>"
      ]
     },
     "metadata": {
      "needs_background": "light"
     },
     "output_type": "display_data"
    }
   ],
   "source": [
    "plt.imshow(C_Image/256, cmap=plt.get_cmap('gray'), vmin=0, vmax=1)\n",
    "plt.show()"
   ]
  },
  {
   "cell_type": "code",
   "execution_count": 5,
   "metadata": {},
   "outputs": [
    {
     "data": {
      "text/plain": [
       "array([[ 74.7656, 254.9745],\n",
       "       [149.4412,  53.9946]])"
      ]
     },
     "execution_count": 5,
     "metadata": {},
     "output_type": "execute_result"
    }
   ],
   "source": [
    "W_Image = np.zeros([2,2,3]) # (x,y,RGB)\n",
    "\n",
    "W_Image[0,0,:] = (34,   65, 232)\n",
    "W_Image[0,1,:] = (255, 255,   255)\n",
    "W_Image[1,0,:] = (228, 128, 54)\n",
    "W_Image[1,1,:] = (54, 54, 54)\n",
    "\n",
    "W_Image = rgb2gray(W_Image)\n",
    "W_Image"
   ]
  },
  {
   "cell_type": "code",
   "execution_count": 6,
   "metadata": {},
   "outputs": [
    {
     "data": {
      "image/png": "[encoded data removed]",
      "text/plain": [
       "<Figure size 432x288 with 1 Axes>"
      ]
     },
     "metadata": {
      "needs_background": "light"
     },
     "output_type": "display_data"
    }
   ],
   "source": [
    "plt.imshow(W_Image/256, cmap=plt.get_cmap('gray'), vmin=0, vmax=1)\n",
    "plt.show()"
   ]
  },
  {
   "cell_type": "code",
   "execution_count": 7,
   "metadata": {},
   "outputs": [],
   "source": [
    "def get_Coeff(Image, watermark=None):\n",
    "    \"\"\" Function that takes in an RGB image matrix of any size and shape and returns qubit coefficients\"\"\"\n",
    "    \n",
    "    ## build in check sizes Image and watermark are the same\n",
    "    Flatten_Image = np.reshape(Image, np.shape(Image)[0]*np.shape(Image)[1])\n",
    "    Theta = Flatten_Image*np.pi/256\n",
    "    \n",
    "    if watermark is None:\n",
    "        Phi = np.zeros(len(Theta))\n",
    "    else:  \n",
    "        Flatten_watermark = np.reshape(watermark, np.shape(watermark)[0]*np.shape(watermark)[1])\n",
    "        Phi = Flatten_watermark*2*np.pi/256\n",
    "\n",
    "    N = np.ceil(np.log2(np.shape(Image)[0]*np.shape(Image)[1]))/2\n",
    "    return Phi,Theta,1/(2**N)*np.ndarray.flatten(np.transpose(np.stack((np.cos(Theta/2),np.exp(1j*Phi)*np.sin(Theta/2)))))"
   ]
  },
  {
   "cell_type": "code",
   "execution_count": 8,
   "metadata": {},
   "outputs": [
    {
     "data": {
      "text/plain": [
       "array([ 0.42611477+0.j        , -0.06831626+0.25250563j,\n",
       "        0.47393845+0.j        ,  0.1592679 -0.00400955j,\n",
       "        0.38377563+0.j        , -0.27713054-0.16098115j,\n",
       "        0.35358116+0.j        ,  0.08594517+0.34291951j])"
      ]
     },
     "execution_count": 8,
     "metadata": {},
     "output_type": "execute_result"
    }
   ],
   "source": [
    "State_vector = get_Coeff(C_Image, W_Image)[2]\n",
    "State_vector"
   ]
  },
  {
   "cell_type": "code",
   "execution_count": 9,
   "metadata": {},
   "outputs": [],
   "source": [
    "def initialise_state(desired_initial_state):\n",
    "    n = int(round(np.log2(desired_initial_state.size)))\n",
    "    \n",
    "    # if 2**n != desired_initial_state.size:\n",
    "        # don't run\n",
    "    \n",
    "    qc_init = QuantumCircuit(n)\n",
    "\n",
    "    qc_init.initialize(desired_initial_state, range(n))\n",
    "    return qc_init"
   ]
  },
  {
   "cell_type": "code",
   "execution_count": 10,
   "metadata": {},
   "outputs": [
    {
     "data": {
      "image/png": "[encoded data removed]",
      "text/plain": [
       "<Figure size 682.577x204.68 with 1 Axes>"
      ]
     },
     "execution_count": 10,
     "metadata": {},
     "output_type": "execute_result"
    }
   ],
   "source": [
    "qc_init = initialise_state(State_vector)\n",
    "qc_init.draw('mpl')"
   ]
  },
  {
   "cell_type": "code",
   "execution_count": 11,
   "metadata": {},
   "outputs": [
    {
     "data": {
      "image/png": "[encoded data removed]",
      "text/plain": [
       "<Figure size 923.377x264.88 with 1 Axes>"
      ]
     },
     "execution_count": 11,
     "metadata": {},
     "output_type": "execute_result"
    }
   ],
   "source": [
    "n = int(round(np.log2(State_vector.size)))\n",
    "shots0 = 100000\n",
    "\n",
    "# Create a Quantum Circuit\n",
    "meas = QuantumCircuit(n, n)\n",
    "meas.barrier(range(n))\n",
    "# map the quantum measurement to the classical bits\n",
    "meas.measure(range(n), range(n))\n",
    "\n",
    "# The Qiskit circuit object supports composition using\n",
    "# the addition operator.\n",
    "qc = qc_init + meas\n",
    "\n",
    "#drawing the circuit\n",
    "qc.draw('mpl')"
   ]
  },
  {
   "cell_type": "code",
   "execution_count": 12,
   "metadata": {},
   "outputs": [],
   "source": [
    "# Use Aer's qasm_simulator\n",
    "backend_sim = Aer.get_backend('qasm_simulator')\n",
    "\n",
    "# Execute the circuit on the qasm simulator.\n",
    "# We've set the number of repeats of the circuit\n",
    "# to be 1024, which is the default.\n",
    "job_sim = execute(qc, backend_sim, shots=shots0)\n",
    "\n",
    "# Grab the results from the job.\n",
    "result_sim = job_sim.result()"
   ]
  },
  {
   "cell_type": "code",
   "execution_count": 13,
   "metadata": {},
   "outputs": [
    {
     "name": "stdout",
     "output_type": "stream",
     "text": [
      "{'000': 18198, '001': 6795, '010': 22459, '011': 2529, '100': 14864, '101': 10480, '110': 12317, '111': 12358}\n"
     ]
    },
    {
     "data": {
      "image/png": "[encoded data removed]",
      "text/plain": [
       "<Figure size 504x360 with 1 Axes>"
      ]
     },
     "execution_count": 13,
     "metadata": {},
     "output_type": "execute_result"
    }
   ],
   "source": [
    "counts = result_sim.get_counts(qc)\n",
    "print(counts)\n",
    "from qiskit.visualization import plot_histogram\n",
    "plot_histogram(counts)"
   ]
  },
  {
   "cell_type": "code",
   "execution_count": 14,
   "metadata": {},
   "outputs": [
    {
     "name": "stdout",
     "output_type": "stream",
     "text": [
      "[0.18198 0.06795 0.22459 0.02529 0.14864 0.1048  0.12317 0.12358]\n"
     ]
    }
   ],
   "source": [
    "probability_vector = np.zeros(2**n)\n",
    "int_counts = counts.int_outcomes() # this changes the keys in the count object to integers so we can iterate through it easily\n",
    "\n",
    "for k in range(2**n):\n",
    "    probability_vector[k] = int_counts.get(k, 0)/shots0\n",
    "\n",
    "print(probability_vector)"
   ]
  },
  {
   "cell_type": "code",
   "execution_count": 15,
   "metadata": {},
   "outputs": [],
   "source": [
    "p0 = probability_vector[0::2]\n",
    "p1 = probability_vector[1::2]"
   ]
  },
  {
   "cell_type": "code",
   "execution_count": 16,
   "metadata": {},
   "outputs": [],
   "source": [
    "def get_RGB(P0):\n",
    "    \"\"\" Function that takes the probablity distribution for the colour qubit 0 \"\"\"\n",
    "    Theta = 2*np.arccos(np.sqrt(len(P0)*P0))\n",
    "\n",
    "    return Theta, np.reshape(Theta/np.pi*256,[np.int(np.sqrt(len(Theta))),np.int(np.sqrt(len(Theta)))])"
   ]
  },
  {
   "cell_type": "code",
   "execution_count": 17,
   "metadata": {},
   "outputs": [
    {
     "data": {
      "image/png": "[encoded data removed]",
      "text/plain": [
       "<Figure size 432x288 with 1 Axes>"
      ]
     },
     "metadata": {
      "needs_background": "light"
     },
     "output_type": "display_data"
    }
   ],
   "source": [
    "P_Image = get_RGB(p0)[1]\n",
    "plt.imshow(P_Image/256, cmap=plt.get_cmap('gray'), vmin=0, vmax=1)\n",
    "plt.show()"
   ]
  },
  {
   "cell_type": "code",
   "execution_count": 18,
   "metadata": {},
   "outputs": [
    {
     "data": {
      "image/png": "[encoded data removed]",
      "text/plain": [
       "<Figure size 432x288 with 1 Axes>"
      ]
     },
     "metadata": {
      "needs_background": "light"
     },
     "output_type": "display_data"
    }
   ],
   "source": [
    "plt.imshow(C_Image/256, cmap=plt.get_cmap('gray'), vmin=0, vmax=1)\n",
    "plt.show()"
   ]
  },
  {
   "cell_type": "markdown",
   "metadata": {},
   "source": [
    "### Extracting the watermark"
   ]
  },
  {
   "cell_type": "code",
   "execution_count": 19,
   "metadata": {},
   "outputs": [
    {
     "data": {
      "image/png": "[encoded data removed]",
      "text/plain": [
       "<Figure size 923.377x264.88 with 1 Axes>"
      ]
     },
     "execution_count": 19,
     "metadata": {},
     "output_type": "execute_result"
    }
   ],
   "source": [
    "n = int(round(np.log2(State_vector.size)))\n",
    "shots0 = 1000000\n",
    "\n",
    "# Create a Quantum Circuit\n",
    "meas_phi = QuantumCircuit(n, n)\n",
    "meas_phi.barrier(range(n))\n",
    "meas_phi.u2(np.pi, np.pi, 0)\n",
    "# map the quantum measurement to the classical bits\n",
    "meas_phi.measure(range(n), range(n))\n",
    "\n",
    "# The Qiskit circuit object supports composition using\n",
    "# the addition operator.\n",
    "qc_phi = qc_init + meas_phi\n",
    "\n",
    "#drawing the circuit\n",
    "qc_phi.draw('mpl')"
   ]
  },
  {
   "cell_type": "code",
   "execution_count": 20,
   "metadata": {},
   "outputs": [],
   "source": [
    "# Use Aer's qasm_simulator\n",
    "backend_sim = Aer.get_backend('qasm_simulator')\n",
    "\n",
    "# Execute the circuit on the qasm simulator.\n",
    "# We've set the number of repeats of the circuit\n",
    "# to be 1024, which is the default.\n",
    "job_sim = execute(qc_phi, backend_sim, shots=shots0)#, shots=shots0)\n",
    "\n",
    "# Grab the results from the job.\n",
    "result_sim = job_sim.result()"
   ]
  },
  {
   "cell_type": "code",
   "execution_count": 21,
   "metadata": {},
   "outputs": [
    {
     "name": "stdout",
     "output_type": "stream",
     "text": [
      "{'000': 96118, '001': 154213, '010': 201111, '011': 49031, '100': 18622, '101': 231028, '110': 154998, '111': 94879}\n"
     ]
    },
    {
     "data": {
      "image/png": "[encoded data removed]",
      "text/plain": [
       "<Figure size 504x360 with 1 Axes>"
      ]
     },
     "execution_count": 21,
     "metadata": {},
     "output_type": "execute_result"
    }
   ],
   "source": [
    "counts = result_sim.get_counts(qc_phi)\n",
    "print(counts)\n",
    "from qiskit.visualization import plot_histogram\n",
    "plot_histogram(counts)"
   ]
  },
  {
   "cell_type": "code",
   "execution_count": 22,
   "metadata": {},
   "outputs": [
    {
     "name": "stdout",
     "output_type": "stream",
     "text": [
      "[0.096118 0.154213 0.201111 0.049031 0.018622 0.231028 0.154998 0.094879]\n"
     ]
    }
   ],
   "source": [
    "probability_vector = np.zeros(2**n)\n",
    "int_counts = counts.int_outcomes() # this changes the keys in the count object to integers so we can iterate through it easily\n",
    "\n",
    "for k in range(2**n):\n",
    "    probability_vector[k] = int_counts.get(k, 0)/shots0\n",
    "\n",
    "print(probability_vector)"
   ]
  },
  {
   "cell_type": "code",
   "execution_count": 23,
   "metadata": {},
   "outputs": [],
   "source": [
    "P0_1 = probability_vector[0::2] \n",
    "P1_1= probability_vector[1::2]"
   ]
  },
  {
   "cell_type": "code",
   "execution_count": 24,
   "metadata": {},
   "outputs": [
    {
     "data": {
      "image/png": "[encoded data removed]",
      "text/plain": [
       "<Figure size 983.577x264.88 with 1 Axes>"
      ]
     },
     "execution_count": 24,
     "metadata": {},
     "output_type": "execute_result"
    }
   ],
   "source": [
    "n = int(round(np.log2(State_vector.size)))\n",
    "shots0 = 1000000\n",
    "\n",
    "# Create a Quantum Circuit\n",
    "meas_phi2 = QuantumCircuit(n, n)\n",
    "meas_phi2.barrier(range(n))\n",
    "meas_phi2.u2(-np.pi/2, np.pi/2, 0)\n",
    "# map the quantum measurement to the classical bits\n",
    "meas_phi2.measure(range(n), range(n))\n",
    "\n",
    "# The Qiskit circuit object supports composition using\n",
    "# the addition operator.\n",
    "qc_phi2 = qc_init + meas_phi2\n",
    "\n",
    "#drawing the circuit\n",
    "qc_phi2.draw('mpl')"
   ]
  },
  {
   "cell_type": "code",
   "execution_count": 25,
   "metadata": {},
   "outputs": [],
   "source": [
    "# Use Aer's qasm_simulator\n",
    "backend_sim = Aer.get_backend('qasm_simulator')\n",
    "\n",
    "# Execute the circuit on the qasm simulator.\n",
    "# We've set the number of repeats of the circuit\n",
    "# to be 1024, which is the default.\n",
    "job_sim = execute(qc_phi2, backend_sim, shots=shots0)\n",
    "\n",
    "# Grab the results from the job.\n",
    "result_sim = job_sim.result()"
   ]
  },
  {
   "cell_type": "code",
   "execution_count": 26,
   "metadata": {},
   "outputs": [
    {
     "name": "stdout",
     "output_type": "stream",
     "text": [
      "{'000': 232311, '001': 17593, '010': 123045, '011': 126696, '100': 63297, '101': 187544, '110': 245851, '111': 3663}\n"
     ]
    },
    {
     "data": {
      "image/png": "[encoded data removed]",
      "text/plain": [
       "<Figure size 504x360 with 1 Axes>"
      ]
     },
     "execution_count": 26,
     "metadata": {},
     "output_type": "execute_result"
    }
   ],
   "source": [
    "counts = result_sim.get_counts(qc_phi2)\n",
    "print(counts)\n",
    "from qiskit.visualization import plot_histogram\n",
    "plot_histogram(counts)"
   ]
  },
  {
   "cell_type": "code",
   "execution_count": 27,
   "metadata": {},
   "outputs": [
    {
     "name": "stdout",
     "output_type": "stream",
     "text": [
      "[0.232311 0.017593 0.123045 0.126696 0.063297 0.187544 0.245851 0.003663]\n"
     ]
    }
   ],
   "source": [
    "probability_vector = np.zeros(2**n)\n",
    "int_counts = counts.int_outcomes() # this changes the keys in the count object to integers so we can iterate through it easily\n",
    "\n",
    "for k in range(2**n):\n",
    "    probability_vector[k] = int_counts.get(k, 0)/shots0\n",
    "\n",
    "print(probability_vector)"
   ]
  },
  {
   "cell_type": "code",
   "execution_count": 28,
   "metadata": {},
   "outputs": [],
   "source": [
    "P0_2 = probability_vector[0::2] \n",
    "P1_2 = probability_vector[1::2]"
   ]
  },
  {
   "cell_type": "code",
   "execution_count": 29,
   "metadata": {},
   "outputs": [],
   "source": [
    "x = P0_1 - P1_1\n",
    "y = P0_2 - P1_2"
   ]
  },
  {
   "cell_type": "code",
   "execution_count": 30,
   "metadata": {},
   "outputs": [],
   "source": [
    "def get_watermark(x,y):\n",
    "    \"\"\" Returns RGB watermark matrix image from the probabilities of the colour qubit being 0 (P0) or 1 P(1)\n",
    "        and the carrier image is encoded by the angles Theta.\n",
    "    \"\"\"\n",
    "    Phi = np.zeros(len(x))\n",
    "    for i in range(len(x)):\n",
    "        if x[i] > 0 and y[i] > 0:\n",
    "            Phi[i] = np.arctan(y[i]/x[i])\n",
    "        elif x[i] > 0 and y[i] < 0:\n",
    "            Phi[i] = 2*np.pi + np.arctan(y[i]/x[i])\n",
    "        elif x[i] < 0:\n",
    "            Phi[i] = np.pi + np.arctan(y[i]/x[i])\n",
    "            \n",
    "\n",
    "    return np.reshape(Phi/2/np.pi*256,[np.int(np.sqrt(len(Phi))),np.int(np.sqrt(len(Phi)))])"
   ]
  },
  {
   "cell_type": "code",
   "execution_count": 31,
   "metadata": {},
   "outputs": [
    {
     "data": {
      "image/png": "[encoded data removed]",
      "text/plain": [
       "<Figure size 432x288 with 1 Axes>"
      ]
     },
     "metadata": {
      "needs_background": "light"
     },
     "output_type": "display_data"
    }
   ],
   "source": [
    "RW_Image = get_watermark(x,y)\n",
    "plt.imshow(RW_Image/256, cmap=plt.get_cmap('gray'), vmin=0, vmax=1)\n",
    "plt.show()"
   ]
  },
  {
   "cell_type": "code",
   "execution_count": 32,
   "metadata": {},
   "outputs": [
    {
     "data": {
      "image/png": "[encoded data removed]",
      "text/plain": [
       "<Figure size 432x288 with 1 Axes>"
      ]
     },
     "metadata": {
      "needs_background": "light"
     },
     "output_type": "display_data"
    }
   ],
   "source": [
    "plt.imshow(W_Image/256, cmap=plt.get_cmap('gray'), vmin=0, vmax=1)\n",
    "plt.show()"
   ]
  },
  {
   "cell_type": "markdown",
   "metadata": {},
   "source": [
    "### Bigger Image"
   ]
  },
  {
   "cell_type": "code",
   "execution_count": 63,
   "metadata": {},
   "outputs": [],
   "source": [
    "img_file = os.path.expanduser(\"IBM-logo.png\")"
   ]
  },
  {
   "cell_type": "code",
   "execution_count": 64,
   "metadata": {},
   "outputs": [],
   "source": [
    "img = cv2.imread(img_file)\n",
    "img = cv2.cvtColor(img, cv2.COLOR_BGR2RGB)\n",
    "res = cv2.resize(img, dsize=(8, 8), interpolation=cv2.INTER_CUBIC)"
   ]
  },
  {
   "cell_type": "code",
   "execution_count": 65,
   "metadata": {},
   "outputs": [
    {
     "data": {
      "text/plain": [
       "<matplotlib.image.AxesImage at 0x7f67b80fe978>"
      ]
     },
     "execution_count": 65,
     "metadata": {},
     "output_type": "execute_result"
    },
    {
     "data": {
      "image/png": "[encoded data removed]",
      "text/plain": [
       "<Figure size 432x288 with 1 Axes>"
      ]
     },
     "metadata": {
      "needs_background": "light"
     },
     "output_type": "display_data"
    }
   ],
   "source": [
    "W_Image = rgb2gray(res)\n",
    "plt.imshow(W_Image/256, cmap=plt.get_cmap('gray'), vmin=0, vmax=1)"
   ]
  },
  {
   "cell_type": "code",
   "execution_count": 66,
   "metadata": {},
   "outputs": [],
   "source": [
    "img_file2 = os.path.expanduser(\"cat.png\")"
   ]
  },
  {
   "cell_type": "code",
   "execution_count": 69,
   "metadata": {},
   "outputs": [],
   "source": [
    "img2 = cv2.imread(img_file2)\n",
    "img2 = cv2.cvtColor(img2, cv2.COLOR_BGR2RGB)\n",
    "res2 = cv2.resize(img2, dsize=(8, 8), interpolation=cv2.INTER_CUBIC)"
   ]
  },
  {
   "cell_type": "code",
   "execution_count": 70,
   "metadata": {},
   "outputs": [
    {
     "data": {
      "text/plain": [
       "<matplotlib.image.AxesImage at 0x7f67b82be8d0>"
      ]
     },
     "execution_count": 70,
     "metadata": {},
     "output_type": "execute_result"
    },
    {
     "data": {
      "image/png": "[encoded data removed]",
      "text/plain": [
       "<Figure size 432x288 with 1 Axes>"
      ]
     },
     "metadata": {
      "needs_background": "light"
     },
     "output_type": "display_data"
    }
   ],
   "source": [
    "C_Image = rgb2gray(res2)\n",
    "plt.imshow(C_Image/256, cmap=plt.get_cmap('gray'), vmin=0, vmax=1)"
   ]
  },
  {
   "cell_type": "code",
   "execution_count": 71,
   "metadata": {},
   "outputs": [
    {
     "data": {
      "text/plain": [
       "array([ 0.12255208+0.j        ,  0.02460902-0.00061953j,\n",
       "        0.12255208+0.j        ,  0.02460902-0.00061953j,\n",
       "        0.12255208+0.j        ,  0.02460902-0.00061953j,\n",
       "        0.12255208+0.j        ,  0.02460902-0.00061953j,\n",
       "        0.00078654+0.j        ,  0.12495793-0.0031458j ,\n",
       "        0.0020036 +0.j        ,  0.12494435-0.00314546j,\n",
       "        0.00078654+0.j        ,  0.12495793-0.0031458j ,\n",
       "        0.00078654+0.j        ,  0.12495793-0.0031458j ,\n",
       "        0.12255208+0.j        , -0.01783361+0.01696908j,\n",
       "        0.12255208+0.j        , -0.01783361+0.01696908j,\n",
       "        0.125     +0.j        , -0.        +0.j        ,\n",
       "        0.12255208+0.j        , -0.01783361+0.01696908j,\n",
       "        0.00078654+0.j        , -0.09055426+0.08616442j,\n",
       "        0.12255208+0.j        , -0.01783361+0.01696908j,\n",
       "        0.00078654+0.j        ,  0.12495793-0.0031458j ,\n",
       "        0.00078654+0.j        , -0.09055426+0.08616442j,\n",
       "        0.12255208+0.j        ,  0.02460902-0.00061953j,\n",
       "        0.12255208+0.j        ,  0.02460902-0.00061953j,\n",
       "        0.12255208+0.j        ,  0.02460902-0.00061953j,\n",
       "        0.12255208+0.j        ,  0.02460902-0.00061953j,\n",
       "        0.00078654+0.j        ,  0.12495793-0.0031458j ,\n",
       "        0.12255208+0.j        ,  0.02460902-0.00061953j,\n",
       "        0.00078654+0.j        ,  0.12495793-0.0031458j ,\n",
       "        0.00078654+0.j        ,  0.12495793-0.0031458j ,\n",
       "        0.12255208+0.j        , -0.01783811+0.01696435j,\n",
       "        0.12255208+0.j        ,  0.02460902-0.00061953j,\n",
       "        0.12341299+0.j        , -0.01438777+0.01368302j,\n",
       "        0.12255208+0.j        , -0.01783811+0.01696435j,\n",
       "        0.12255208+0.j        ,  0.02460902-0.00061953j,\n",
       "        0.12255208+0.j        , -0.01783811+0.01696435j,\n",
       "        0.00078654+0.j        , -0.0905771 +0.08614041j,\n",
       "        0.00078654+0.j        , -0.0905771 +0.08614041j,\n",
       "        0.12255208+0.j        , -0.01783361+0.01696908j,\n",
       "        0.12255208+0.j        ,  0.02460902-0.00061953j,\n",
       "        0.1217912 +0.j        , -0.02038656+0.01939827j,\n",
       "        0.00132418+0.j        , -0.09055097+0.08616129j,\n",
       "        0.12255208+0.j        ,  0.02460902-0.00061953j,\n",
       "        0.12255208+0.j        , -0.01783361+0.01696908j,\n",
       "        0.00078654+0.j        , -0.09055426+0.08616442j,\n",
       "        0.00078654+0.j        , -0.09055426+0.08616442j,\n",
       "        0.12255208+0.j        ,  0.02460902-0.00061953j,\n",
       "        0.12255208+0.j        ,  0.02460902-0.00061953j,\n",
       "        0.08785138+0.j        ,  0.08889391-0.00223789j,\n",
       "        0.00078654+0.j        ,  0.12495793-0.0031458j ,\n",
       "        0.12255208+0.j        ,  0.02460902-0.00061953j,\n",
       "        0.12255208+0.j        ,  0.02460902-0.00061953j,\n",
       "        0.00078654+0.j        ,  0.12495793-0.0031458j ,\n",
       "        0.00078654+0.j        ,  0.12495793-0.0031458j ,\n",
       "        0.12255208+0.j        , -0.01783361+0.01696908j,\n",
       "        0.12255208+0.j        , -0.01783361+0.01696908j,\n",
       "        0.12255208+0.j        , -0.01783361+0.01696908j,\n",
       "        0.12255208+0.j        , -0.01783361+0.01696908j,\n",
       "        0.00078654+0.j        , -0.09055426+0.08616442j,\n",
       "        0.00078654+0.j        , -0.09055426+0.08616442j,\n",
       "        0.00078654+0.j        ,  0.12495793-0.0031458j ,\n",
       "        0.00078654+0.j        , -0.09055426+0.08616442j,\n",
       "        0.12255208+0.j        ,  0.02460902-0.00061953j,\n",
       "        0.12255208+0.j        ,  0.02460902-0.00061953j,\n",
       "        0.12255208+0.j        ,  0.02460902-0.00061953j,\n",
       "        0.12255208+0.j        ,  0.02460902-0.00061953j,\n",
       "        0.00078654+0.j        ,  0.12495793-0.0031458j ,\n",
       "        0.00078654+0.j        ,  0.12495793-0.0031458j ,\n",
       "        0.00078654+0.j        ,  0.12495793-0.0031458j ,\n",
       "        0.00078654+0.j        ,  0.12495793-0.0031458j ])"
      ]
     },
     "execution_count": 71,
     "metadata": {},
     "output_type": "execute_result"
    }
   ],
   "source": [
    "State_vector = get_Coeff(C_Image, W_Image)[2]\n",
    "State_vector"
   ]
  },
  {
   "cell_type": "code",
   "execution_count": 72,
   "metadata": {},
   "outputs": [],
   "source": [
    "def initialise_state(desired_initial_state):\n",
    "    n = int(round(np.log2(desired_initial_state.size)))\n",
    "    \n",
    "    # if 2**n != desired_initial_state.size:\n",
    "        # don't run\n",
    "    \n",
    "    qc_init = QuantumCircuit(n)\n",
    "\n",
    "    qc_init.initialize(desired_initial_state, range(n))\n",
    "    return qc_init"
   ]
  },
  {
   "cell_type": "code",
   "execution_count": 73,
   "metadata": {},
   "outputs": [],
   "source": [
    "qc_init = initialise_state(State_vector)\n",
    "#qc_init.draw('mpl')"
   ]
  },
  {
   "cell_type": "code",
   "execution_count": 74,
   "metadata": {},
   "outputs": [],
   "source": [
    "n = int(round(np.log2(State_vector.size)))\n",
    "shots0 = 1000000\n",
    "\n",
    "# Create a Quantum Circuit\n",
    "meas = QuantumCircuit(n, n)\n",
    "meas.barrier(range(n))\n",
    "# map the quantum measurement to the classical bits\n",
    "meas.measure(range(n), range(n))\n",
    "\n",
    "# The Qiskit circuit object supports composition using\n",
    "# the addition operator.\n",
    "qc = qc_init + meas\n",
    "\n",
    "#drawing the circuit\n",
    "#qc.draw('mpl')"
   ]
  },
  {
   "cell_type": "code",
   "execution_count": 75,
   "metadata": {},
   "outputs": [],
   "source": [
    "# Use Aer's qasm_simulator\n",
    "backend_sim = Aer.get_backend('qasm_simulator')\n",
    "\n",
    "# Execute the circuit on the qasm simulator.\n",
    "# We've set the number of repeats of the circuit\n",
    "# to be 1024, which is the default.\n",
    "job_sim = execute(qc, backend_sim, shots=shots0)\n",
    "\n",
    "# Grab the results from the job.\n",
    "result_sim = job_sim.result()"
   ]
  },
  {
   "cell_type": "code",
   "execution_count": 76,
   "metadata": {},
   "outputs": [
    {
     "name": "stdout",
     "output_type": "stream",
     "text": [
      "{'0000000': 14965, '0000001': 600, '0010000': 15101, '0010001': 613, '0010010': 15021, '0010011': 579, '0010100': 15651, '0010110': 14786, '0010111': 608, '0011000': 1, '0011001': 15944, '0011010': 15165, '0011011': 594, '0011101': 15820, '0011110': 1, '0011111': 15400, '0000010': 15230, '0100000': 14902, '0100001': 589, '0100010': 15116, '0100011': 630, '0100100': 15032, '0100101': 569, '0100110': 15164, '0100111': 596, '0101001': 15710, '0101010': 15033, '0101011': 617, '0101101': 15747, '0101111': 15461, '0000011': 581, '0110000': 14981, '0110001': 639, '0110010': 15107, '0110011': 653, '0110100': 15325, '0110101': 358, '0110110': 15078, '0110111': 604, '0111000': 15096, '0111001': 629, '0111010': 15002, '0111011': 594, '0111100': 3, '0111101': 15654, '0111111': 15615, '0000100': 15010, '1000000': 14811, '1000001': 593, '1000010': 14948, '1000011': 630, '1000100': 14815, '1000101': 790, '1000110': 2, '1000111': 15579, '1001000': 14899, '1001001': 573, '1001010': 14964, '1001011': 610, '1001101': 15576, '1001110': 1, '1001111': 15441, '0000101': 574, '1010000': 14945, '1010001': 586, '1010010': 14890, '1010011': 623, '1010100': 7748, '1010101': 7955, '1010111': 15734, '1011000': 15017, '1011001': 592, '1011010': 14984, '1011011': 583, '1011101': 15575, '1011110': 1, '1011111': 15506, '0000110': 15006, '1100000': 15004, '1100001': 627, '1100010': 15063, '1100011': 584, '1100100': 15013, '1100101': 586, '1100110': 15054, '1100111': 608, '1101001': 15396, '1101010': 1, '1101011': 15531, '1101101': 15551, '1101111': 15721, '0000111': 634, '1110000': 15240, '1110001': 633, '1110010': 15226, '1110011': 579, '1110100': 15033, '1110101': 596, '1110110': 15066, '1110111': 583, '1111001': 15557, '1111010': 2, '1111011': 15612, '1111100': 2, '1111101': 15654, '1111111': 15681, '0001001': 15547, '0001010': 6, '0001011': 15625, '0001100': 1, '0001101': 15666, '0001111': 15593}\n"
     ]
    }
   ],
   "source": [
    "counts = result_sim.get_counts(qc)\n",
    "print(counts)\n",
    "#from qiskit.visualization import plot_histogram\n",
    "#plot_histogram(counts)"
   ]
  },
  {
   "cell_type": "code",
   "execution_count": 77,
   "metadata": {},
   "outputs": [
    {
     "name": "stdout",
     "output_type": "stream",
     "text": [
      "[1.4965e-02 6.0000e-04 1.5230e-02 5.8100e-04 1.5010e-02 5.7400e-04\n",
      " 1.5006e-02 6.3400e-04 0.0000e+00 1.5547e-02 6.0000e-06 1.5625e-02\n",
      " 1.0000e-06 1.5666e-02 0.0000e+00 1.5593e-02 1.5101e-02 6.1300e-04\n",
      " 1.5021e-02 5.7900e-04 1.5651e-02 0.0000e+00 1.4786e-02 6.0800e-04\n",
      " 1.0000e-06 1.5944e-02 1.5165e-02 5.9400e-04 0.0000e+00 1.5820e-02\n",
      " 1.0000e-06 1.5400e-02 1.4902e-02 5.8900e-04 1.5116e-02 6.3000e-04\n",
      " 1.5032e-02 5.6900e-04 1.5164e-02 5.9600e-04 0.0000e+00 1.5710e-02\n",
      " 1.5033e-02 6.1700e-04 0.0000e+00 1.5747e-02 0.0000e+00 1.5461e-02\n",
      " 1.4981e-02 6.3900e-04 1.5107e-02 6.5300e-04 1.5325e-02 3.5800e-04\n",
      " 1.5078e-02 6.0400e-04 1.5096e-02 6.2900e-04 1.5002e-02 5.9400e-04\n",
      " 3.0000e-06 1.5654e-02 0.0000e+00 1.5615e-02 1.4811e-02 5.9300e-04\n",
      " 1.4948e-02 6.3000e-04 1.4815e-02 7.9000e-04 2.0000e-06 1.5579e-02\n",
      " 1.4899e-02 5.7300e-04 1.4964e-02 6.1000e-04 0.0000e+00 1.5576e-02\n",
      " 1.0000e-06 1.5441e-02 1.4945e-02 5.8600e-04 1.4890e-02 6.2300e-04\n",
      " 7.7480e-03 7.9550e-03 0.0000e+00 1.5734e-02 1.5017e-02 5.9200e-04\n",
      " 1.4984e-02 5.8300e-04 0.0000e+00 1.5575e-02 1.0000e-06 1.5506e-02\n",
      " 1.5004e-02 6.2700e-04 1.5063e-02 5.8400e-04 1.5013e-02 5.8600e-04\n",
      " 1.5054e-02 6.0800e-04 0.0000e+00 1.5396e-02 1.0000e-06 1.5531e-02\n",
      " 0.0000e+00 1.5551e-02 0.0000e+00 1.5721e-02 1.5240e-02 6.3300e-04\n",
      " 1.5226e-02 5.7900e-04 1.5033e-02 5.9600e-04 1.5066e-02 5.8300e-04\n",
      " 0.0000e+00 1.5557e-02 2.0000e-06 1.5612e-02 2.0000e-06 1.5654e-02\n",
      " 0.0000e+00 1.5681e-02]\n"
     ]
    }
   ],
   "source": [
    "probability_vector = np.zeros(2**n)\n",
    "int_counts = counts.int_outcomes() # this changes the keys in the count object to integers so we can iterate through it easily\n",
    "\n",
    "for k in range(2**n):\n",
    "    probability_vector[k] = int_counts.get(k, 0)/shots0\n",
    "\n",
    "print(probability_vector)"
   ]
  },
  {
   "cell_type": "code",
   "execution_count": 78,
   "metadata": {},
   "outputs": [],
   "source": [
    "p0 = probability_vector[0::2]\n",
    "p1 = probability_vector[1::2]"
   ]
  },
  {
   "cell_type": "code",
   "execution_count": 79,
   "metadata": {},
   "outputs": [
    {
     "name": "stderr",
     "output_type": "stream",
     "text": [
      "/home/lcoopmans/anaconda3/lib/python3.7/site-packages/ipykernel_launcher.py:3: RuntimeWarning: invalid value encountered in arccos\n",
      "  This is separate from the ipykernel package so we can avoid doing imports until\n"
     ]
    },
    {
     "data": {
      "image/png": "[encoded data removed]",
      "text/plain": [
       "<Figure size 432x288 with 1 Axes>"
      ]
     },
     "metadata": {
      "needs_background": "light"
     },
     "output_type": "display_data"
    }
   ],
   "source": [
    "P_Image = get_RGB(p0)[1]\n",
    "plt.imshow(P_Image/256, cmap=plt.get_cmap('gray'), vmin=0, vmax=1)\n",
    "plt.show()"
   ]
  },
  {
   "cell_type": "markdown",
   "metadata": {},
   "source": [
    "### Extracting IBM's watermark"
   ]
  },
  {
   "cell_type": "code",
   "execution_count": 81,
   "metadata": {},
   "outputs": [],
   "source": [
    "n = int(round(np.log2(State_vector.size)))\n",
    "shots0 = 1000000\n",
    "\n",
    "# Create a Quantum Circuit\n",
    "meas_phi = QuantumCircuit(n, n)\n",
    "meas_phi.barrier(range(n))\n",
    "meas_phi.u2(np.pi, np.pi, 0)\n",
    "# map the quantum measurement to the classical bits\n",
    "meas_phi.measure(range(n), range(n))\n",
    "\n",
    "# The Qiskit circuit object supports composition using\n",
    "# the addition operator.\n",
    "qc_phi = qc_init + meas_phi\n",
    "\n",
    "#drawing the circuit\n",
    "#qc_phi.draw('mpl')"
   ]
  },
  {
   "cell_type": "code",
   "execution_count": 82,
   "metadata": {},
   "outputs": [],
   "source": [
    "# Use Aer's qasm_simulator\n",
    "backend_sim = Aer.get_backend('qasm_simulator')\n",
    "\n",
    "# Execute the circuit on the qasm simulator.\n",
    "# We've set the number of repeats of the circuit\n",
    "# to be 1024, which is the default.\n",
    "job_sim = execute(qc_phi, backend_sim, shots=shots0)#, shots=shots0)\n",
    "\n",
    "# Grab the results from the job.\n",
    "result_sim = job_sim.result()"
   ]
  },
  {
   "cell_type": "code",
   "execution_count": 83,
   "metadata": {},
   "outputs": [
    {
     "name": "stdout",
     "output_type": "stream",
     "text": [
      "{'0000000': 10831, '0000001': 4837, '0010000': 5744, '0010001': 10106, '0010010': 5633, '0010011': 9859, '0010100': 7779, '0010101': 7681, '0010110': 5488, '0010111': 10034, '0011000': 7739, '0011001': 7884, '0011010': 5748, '0011011': 9998, '0011100': 7911, '0011101': 7752, '0011110': 7706, '0011111': 7935, '0000010': 10866, '0100000': 10963, '0100001': 4820, '0100010': 10913, '0100011': 4916, '0100100': 10860, '0100101': 4717, '0100110': 10733, '0100111': 4746, '0101000': 7938, '0101001': 7768, '0101010': 10852, '0101011': 4730, '0101100': 7685, '0101101': 7658, '0101110': 7893, '0101111': 7605, '0000011': 4666, '0110000': 5504, '0110001': 9872, '0110010': 10766, '0110011': 4850, '0110100': 5966, '0110101': 9516, '0110110': 5667, '0110111': 10007, '0111000': 10807, '0111001': 4790, '0111010': 5635, '0111011': 10228, '0111100': 7619, '0111101': 7878, '0111110': 7809, '0111111': 7793, '0000100': 10873, '1000000': 5579, '1000001': 9953, '1000010': 10962, '1000011': 4726, '1000100': 5287, '1000101': 10185, '1000110': 7721, '1000111': 7919, '1001000': 10918, '1001001': 4707, '1001010': 5671, '1001011': 10086, '1001100': 7796, '1001101': 7736, '1001110': 7765, '1001111': 7870, '0000101': 4752, '1010000': 10927, '1010001': 4819, '1010010': 10933, '1010011': 4774, '1010100': 15555, '1010101': 1, '1010110': 8062, '1010111': 7775, '1011000': 10831, '1011001': 4802, '1011010': 10989, '1011011': 4792, '1011100': 7950, '1011101': 7745, '1011110': 8036, '1011111': 7926, '0000110': 10658, '1100000': 5477, '1100001': 10163, '1100010': 5660, '1100011': 9923, '1100100': 5688, '1100101': 9997, '1100110': 5625, '1100111': 10154, '1101000': 7662, '1101001': 7886, '1101010': 7837, '1101011': 7787, '1101100': 7994, '1101101': 7704, '1101110': 7694, '1101111': 8047, '0000111': 4827, '1110000': 10849, '1110001': 4826, '1110010': 10787, '1110011': 4796, '1110100': 10912, '1110101': 4740, '1110110': 10881, '1110111': 4731, '1111000': 8002, '1111001': 7710, '1111010': 7787, '1111011': 7810, '1111100': 8005, '1111101': 7621, '1111110': 7881, '1111111': 7697, '0001000': 7950, '0001001': 7725, '0001010': 8073, '0001011': 7373, '0001100': 7910, '0001101': 7529, '0001110': 7857, '0001111': 7641}\n"
     ]
    }
   ],
   "source": [
    "counts = result_sim.get_counts(qc_phi)\n",
    "print(counts)\n",
    "#from qiskit.visualization import plot_histogram\n",
    "#plot_histogram(counts)"
   ]
  },
  {
   "cell_type": "code",
   "execution_count": 84,
   "metadata": {},
   "outputs": [
    {
     "name": "stdout",
     "output_type": "stream",
     "text": [
      "[1.0831e-02 4.8370e-03 1.0866e-02 4.6660e-03 1.0873e-02 4.7520e-03\n",
      " 1.0658e-02 4.8270e-03 7.9500e-03 7.7250e-03 8.0730e-03 7.3730e-03\n",
      " 7.9100e-03 7.5290e-03 7.8570e-03 7.6410e-03 5.7440e-03 1.0106e-02\n",
      " 5.6330e-03 9.8590e-03 7.7790e-03 7.6810e-03 5.4880e-03 1.0034e-02\n",
      " 7.7390e-03 7.8840e-03 5.7480e-03 9.9980e-03 7.9110e-03 7.7520e-03\n",
      " 7.7060e-03 7.9350e-03 1.0963e-02 4.8200e-03 1.0913e-02 4.9160e-03\n",
      " 1.0860e-02 4.7170e-03 1.0733e-02 4.7460e-03 7.9380e-03 7.7680e-03\n",
      " 1.0852e-02 4.7300e-03 7.6850e-03 7.6580e-03 7.8930e-03 7.6050e-03\n",
      " 5.5040e-03 9.8720e-03 1.0766e-02 4.8500e-03 5.9660e-03 9.5160e-03\n",
      " 5.6670e-03 1.0007e-02 1.0807e-02 4.7900e-03 5.6350e-03 1.0228e-02\n",
      " 7.6190e-03 7.8780e-03 7.8090e-03 7.7930e-03 5.5790e-03 9.9530e-03\n",
      " 1.0962e-02 4.7260e-03 5.2870e-03 1.0185e-02 7.7210e-03 7.9190e-03\n",
      " 1.0918e-02 4.7070e-03 5.6710e-03 1.0086e-02 7.7960e-03 7.7360e-03\n",
      " 7.7650e-03 7.8700e-03 1.0927e-02 4.8190e-03 1.0933e-02 4.7740e-03\n",
      " 1.5555e-02 1.0000e-06 8.0620e-03 7.7750e-03 1.0831e-02 4.8020e-03\n",
      " 1.0989e-02 4.7920e-03 7.9500e-03 7.7450e-03 8.0360e-03 7.9260e-03\n",
      " 5.4770e-03 1.0163e-02 5.6600e-03 9.9230e-03 5.6880e-03 9.9970e-03\n",
      " 5.6250e-03 1.0154e-02 7.6620e-03 7.8860e-03 7.8370e-03 7.7870e-03\n",
      " 7.9940e-03 7.7040e-03 7.6940e-03 8.0470e-03 1.0849e-02 4.8260e-03\n",
      " 1.0787e-02 4.7960e-03 1.0912e-02 4.7400e-03 1.0881e-02 4.7310e-03\n",
      " 8.0020e-03 7.7100e-03 7.7870e-03 7.8100e-03 8.0050e-03 7.6210e-03\n",
      " 7.8810e-03 7.6970e-03]\n"
     ]
    }
   ],
   "source": [
    "probability_vector = np.zeros(2**n)\n",
    "int_counts = counts.int_outcomes() # this changes the keys in the count object to integers so we can iterate through it easily\n",
    "\n",
    "for k in range(2**n):\n",
    "    probability_vector[k] = int_counts.get(k, 0)/shots0\n",
    "\n",
    "print(probability_vector)"
   ]
  },
  {
   "cell_type": "code",
   "execution_count": 85,
   "metadata": {},
   "outputs": [],
   "source": [
    "P0_1 = probability_vector[0::2] \n",
    "P1_1= probability_vector[1::2]"
   ]
  },
  {
   "cell_type": "code",
   "execution_count": 86,
   "metadata": {},
   "outputs": [],
   "source": [
    "n = int(round(np.log2(State_vector.size)))\n",
    "shots0 = 1000000\n",
    "\n",
    "# Create a Quantum Circuit\n",
    "meas_phi2 = QuantumCircuit(n, n)\n",
    "meas_phi2.barrier(range(n))\n",
    "meas_phi2.u2(-np.pi/2, np.pi/2, 0)\n",
    "# map the quantum measurement to the classical bits\n",
    "meas_phi2.measure(range(n), range(n))\n",
    "\n",
    "# The Qiskit circuit object supports composition using\n",
    "# the addition operator.\n",
    "qc_phi2 = qc_init + meas_phi2\n",
    "\n",
    "#drawing the circuit\n",
    "#qc_phi2.draw('mpl')"
   ]
  },
  {
   "cell_type": "code",
   "execution_count": 88,
   "metadata": {},
   "outputs": [],
   "source": [
    "# Use Aer's qasm_simulator\n",
    "backend_sim = Aer.get_backend('qasm_simulator')\n",
    "\n",
    "# Execute the circuit on the qasm simulator.\n",
    "# We've set the number of repeats of the circuit\n",
    "# to be 1024, which is the default.\n",
    "job_sim = execute(qc_phi2, backend_sim, shots=shots0)\n",
    "\n",
    "# Grab the results from the job.\n",
    "result_sim = job_sim.result()"
   ]
  },
  {
   "cell_type": "code",
   "execution_count": 89,
   "metadata": {},
   "outputs": [
    {
     "name": "stdout",
     "output_type": "stream",
     "text": [
      "{'0000000': 7746, '0000001': 7716, '0010000': 9897, '0010001': 5605, '0010010': 9826, '0010011': 5771, '0010100': 7783, '0010101': 7847, '0010110': 9798, '0010111': 5653, '0011000': 7874, '0011001': 7962, '0011010': 9923, '0011011': 5779, '0011100': 7708, '0011101': 7754, '0011110': 8113, '0011111': 7792, '0000010': 7733, '0100000': 7727, '0100001': 8008, '0100010': 7653, '0100011': 7969, '0100100': 7752, '0100101': 7871, '0100110': 7840, '0100111': 7967, '0101000': 7843, '0101001': 7737, '0101010': 7700, '0101011': 7950, '0101100': 7810, '0101101': 7823, '0101110': 7964, '0101111': 7736, '0000011': 7906, '0110000': 9734, '0110001': 5722, '0110010': 7682, '0110011': 7823, '0110100': 9407, '0110101': 6065, '0110110': 9958, '0110111': 5677, '0111000': 7903, '0111001': 7848, '0111010': 9875, '0111011': 5694, '0111100': 7944, '0111101': 7756, '0111110': 7881, '0111111': 7784, '0000100': 7808, '1000000': 9974, '1000001': 5797, '1000010': 7539, '1000011': 7773, '1000100': 9989, '1000101': 5290, '1000110': 7912, '1000111': 7555, '1001000': 7751, '1001001': 7820, '1001010': 9999, '1001011': 5665, '1001100': 8056, '1001101': 7791, '1001110': 7852, '1001111': 7597, '0000101': 7896, '1010000': 7712, '1010001': 7714, '1010010': 7690, '1010011': 7792, '1010100': 7759, '1010101': 7929, '1010110': 7750, '1010111': 7937, '1011000': 7722, '1011001': 8045, '1011010': 7734, '1011011': 7799, '1011100': 7822, '1011101': 7788, '1011110': 7906, '1011111': 7903, '0000110': 7840, '1100000': 9912, '1100001': 5771, '1100010': 9960, '1100011': 5726, '1100100': 9904, '1100101': 5740, '1100110': 9926, '1100111': 5638, '1101000': 7955, '1101001': 7767, '1101010': 7736, '1101011': 7687, '1101100': 7759, '1101101': 7856, '1101110': 8109, '1101111': 7589, '0000111': 7920, '1110000': 7765, '1110001': 7760, '1110010': 7847, '1110011': 7788, '1110100': 7714, '1110101': 7763, '1110110': 7749, '1110111': 7974, '1111000': 7939, '1111001': 7970, '1111010': 8025, '1111011': 7996, '1111100': 7778, '1111101': 7791, '1111110': 7719, '1111111': 7816, '0001000': 7938, '0001001': 7761, '0001010': 7753, '0001011': 7819, '0001100': 7769, '0001101': 7890, '0001110': 7660, '0001111': 7866}\n"
     ]
    }
   ],
   "source": [
    "counts = result_sim.get_counts(qc_phi2)\n",
    "print(counts)\n",
    "#from qiskit.visualization import plot_histogram\n",
    "#plot_histogram(counts)"
   ]
  },
  {
   "cell_type": "code",
   "execution_count": 90,
   "metadata": {},
   "outputs": [
    {
     "name": "stdout",
     "output_type": "stream",
     "text": [
      "[0.007746 0.007716 0.007733 0.007906 0.007808 0.007896 0.00784  0.00792\n",
      " 0.007938 0.007761 0.007753 0.007819 0.007769 0.00789  0.00766  0.007866\n",
      " 0.009897 0.005605 0.009826 0.005771 0.007783 0.007847 0.009798 0.005653\n",
      " 0.007874 0.007962 0.009923 0.005779 0.007708 0.007754 0.008113 0.007792\n",
      " 0.007727 0.008008 0.007653 0.007969 0.007752 0.007871 0.00784  0.007967\n",
      " 0.007843 0.007737 0.0077   0.00795  0.00781  0.007823 0.007964 0.007736\n",
      " 0.009734 0.005722 0.007682 0.007823 0.009407 0.006065 0.009958 0.005677\n",
      " 0.007903 0.007848 0.009875 0.005694 0.007944 0.007756 0.007881 0.007784\n",
      " 0.009974 0.005797 0.007539 0.007773 0.009989 0.00529  0.007912 0.007555\n",
      " 0.007751 0.00782  0.009999 0.005665 0.008056 0.007791 0.007852 0.007597\n",
      " 0.007712 0.007714 0.00769  0.007792 0.007759 0.007929 0.00775  0.007937\n",
      " 0.007722 0.008045 0.007734 0.007799 0.007822 0.007788 0.007906 0.007903\n",
      " 0.009912 0.005771 0.00996  0.005726 0.009904 0.00574  0.009926 0.005638\n",
      " 0.007955 0.007767 0.007736 0.007687 0.007759 0.007856 0.008109 0.007589\n",
      " 0.007765 0.00776  0.007847 0.007788 0.007714 0.007763 0.007749 0.007974\n",
      " 0.007939 0.00797  0.008025 0.007996 0.007778 0.007791 0.007719 0.007816]\n"
     ]
    }
   ],
   "source": [
    "probability_vector = np.zeros(2**n)\n",
    "int_counts = counts.int_outcomes() # this changes the keys in the count object to integers so we can iterate through it easily\n",
    "\n",
    "for k in range(2**n):\n",
    "    probability_vector[k] = int_counts.get(k, 0)/shots0\n",
    "\n",
    "print(probability_vector)"
   ]
  },
  {
   "cell_type": "code",
   "execution_count": 91,
   "metadata": {},
   "outputs": [],
   "source": [
    "P0_2 = probability_vector[0::2] \n",
    "P1_2 = probability_vector[1::2]"
   ]
  },
  {
   "cell_type": "code",
   "execution_count": 92,
   "metadata": {},
   "outputs": [],
   "source": [
    "x = P0_1 - P1_1\n",
    "y = P0_2 - P1_2"
   ]
  },
  {
   "cell_type": "code",
   "execution_count": 93,
   "metadata": {},
   "outputs": [
    {
     "data": {
      "image/png": "[encoded data removed]",
      "text/plain": [
       "<Figure size 432x288 with 1 Axes>"
      ]
     },
     "metadata": {
      "needs_background": "light"
     },
     "output_type": "display_data"
    }
   ],
   "source": [
    "RW_Image = get_watermark(x,y)\n",
    "plt.imshow(RW_Image/256, cmap=plt.get_cmap('gray'), vmin=0, vmax=1)\n",
    "plt.show()"
   ]
  },
  {
   "cell_type": "code",
   "execution_count": 94,
   "metadata": {},
   "outputs": [
    {
     "data": {
      "image/png": "[encoded data removed]",
      "text/plain": [
       "<Figure size 432x288 with 1 Axes>"
      ]
     },
     "metadata": {
      "needs_background": "light"
     },
     "output_type": "display_data"
    }
   ],
   "source": [
    "plt.imshow(W_Image/256, cmap=plt.get_cmap('gray'), vmin=0, vmax=1)\n",
    "plt.show()"
   ]
  },
  {
   "cell_type": "code",
   "execution_count": null,
   "metadata": {},
   "outputs": [],
   "source": []
  }
 ],
 "metadata": {
  "@webio": {
   "lastCommId": "7032674daa7f43fb83bd3332e468d072",
   "lastKernelId": "4caf34c3-69ba-4da4-a9ff-db27de572c1d"
  },
  "kernelspec": {
   "display_name": "Python 3",
   "language": "python",
   "name": "python3"
  },
  "language_info": {
   "codemirror_mode": {
    "name": "ipython",
    "version": 3
   },
   "file_extension": ".py",
   "mimetype": "text/x-python",
   "name": "python",
   "nbconvert_exporter": "python",
   "pygments_lexer": "ipython3",
   "version": "3.7.3"
  }
 },
 "nbformat": 4,
 "nbformat_minor": 2
}
