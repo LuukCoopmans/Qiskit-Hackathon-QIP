{
 "cells": [
  {
   "cell_type": "markdown",
   "metadata": {},
   "source": [
    "# Quantum Watermarking Greyscale Images"
   ]
  },
  {
   "cell_type": "markdown",
   "metadata": {},
   "source": [
    "### Authors: Luuk Coopmans, Cillian Doherty, Maria Graham, Ian Jubb and Rajarshi Tiwari"
   ]
  },
  {
   "cell_type": "markdown",
   "metadata": {},
   "source": [
    "In this Jupyter Notebook we show the code we wrote for the Qiskit Quantum Summer Jam. Our code implements Quantum Information Processing (QIP) with as application the watermarking and scrambling of quantum images in Qiskit. In this file we first define and explain the functions we need for QIP and quantum watermarking, then we show an example of watermarking a $16\\times16$ greyscale image of a Schrödinger Cat with an IBM Logo. In the end we also show how to scramble the watermark such that it is protected from intruders.   "
   ]
  },
  {
   "cell_type": "markdown",
   "metadata": {},
   "source": [
    "### Defining the required functions for QIP and watermarking"
   ]
  },
  {
   "cell_type": "markdown",
   "metadata": {},
   "source": [
    "We start with importing the required modules and packages. For version requirements see the Readme in our Github."
   ]
  },
  {
   "cell_type": "code",
   "execution_count": null,
   "metadata": {},
   "outputs": [],
   "source": [
    "import numpy as np\n",
    "from matplotlib import pyplot as plt\n",
    "import os\n",
    "import cv2\n",
    "from qiskit import *"
   ]
  },
  {
   "cell_type": "markdown",
   "metadata": {},
   "source": [
    "Next we define a little function that can convert color images to greyscale images in the range (0, 255). We needed this because we figured out that the method presented in [1] to encode colored images is not accurate enough when running a quantum simulator. "
   ]
  },
  {
   "cell_type": "code",
   "execution_count": null,
   "metadata": {},
   "outputs": [],
   "source": [
    "def rgb2gray(rgb):\n",
    "    return np.dot(rgb[...,:3], [0.2989, 0.5870, 0.1140])"
   ]
  },
  {
   "cell_type": "markdown",
   "metadata": {},
   "source": [
    "To encode the classical carrier image and the watermark into a quantum state we need a function that converts the greyscale values of the pixels indexed by $k$ to qubit angles $\\theta_{k}$ and then computes the coefficients of the state vector of the quantum state. Here we use the $\\theta_{k}=2*\\arccos(G^{k}/255)$ for the angles since this avoids precision problems (taking the $\\arccos$ of arguments bigger than one) when retrieving them later back again from the measured probabilities of the quantum image. "
   ]
  },
  {
   "cell_type": "code",
   "execution_count": null,
   "metadata": {},
   "outputs": [],
   "source": [
    "def get_Coeff(Image, watermark=None):\n",
    "    \"\"\" Function that takes in an Greyscale Image matrix of any size and and optional\n",
    "        watermark image and shape and returns qubit coefficients in the computational\n",
    "        basis. \n",
    "        TO DO: build in a check that ensures the sizes of the Image and watermark are the same\n",
    "    \"\"\"\n",
    "    \n",
    "    Flatten_Image = np.reshape(Image, np.shape(Image)[0]*np.shape(Image)[1])\n",
    "    \n",
    "    # Get the theta angles of the Image and watermark from the greyscale values\n",
    "    Theta_I = 2*np.arccos(np.sqrt(Flatten_Image/255))\n",
    "                          \n",
    "    if watermark is None:\n",
    "        Theta_W = np.zeros(len(Theta_I))\n",
    "    else:  \n",
    "        Flatten_watermark = np.reshape(watermark, np.shape(watermark)[0]*np.shape(watermark)[1])\n",
    "        Theta_W = 2*np.arccos(np.sqrt(Flatten_watermark/255))\n",
    "        \n",
    "        \n",
    "    # Compute the qubit Coeff and return them in a normalized qubit state vector. \n",
    "    Coeff = np.stack((np.cos(Theta_I/2)*np.cos(Theta_W/2),\n",
    "                       np.cos(Theta_I/2)*np.sin(Theta_W/2),\n",
    "                       np.sin(Theta_I/2)*np.cos(Theta_W/2),\n",
    "                       np.sin(Theta_I/2)*np.sin(Theta_W/2)))\n",
    "    \n",
    "    \n",
    "    Coeff = np.ndarray.flatten(np.transpose(Coeff))\n",
    "    \n",
    "    return Coeff/np.linalg.norm(Coeff)"
   ]
  },
  {
   "cell_type": "markdown",
   "metadata": {},
   "source": [
    "We then wrote a function to initialize a general quantum state vector into a quantum circuit for qiskit we wrote the following fuction"
   ]
  },
  {
   "cell_type": "code",
   "execution_count": null,
   "metadata": {},
   "outputs": [],
   "source": [
    "def initialise_state(desired_initial_state):\n",
    "    \"\"\" Returns an initialized quantum circuit for a given input state\"\"\"\n",
    "    n = int(round(np.log2(desired_initial_state.size))) #number of qubits\n",
    "    \n",
    "    qc_init = QuantumCircuit(n)\n",
    "\n",
    "    qc_init.initialize(desired_initial_state, range(n))\n",
    "    return qc_init"
   ]
  },
  {
   "cell_type": "markdown",
   "metadata": {},
   "source": [
    "Finally to get the newly measured classical images back out from the measured probabilities of the quantum circuit we define the function get_Images. For this we combine the probabilities $Pr^{k}(00)$, $Pr^{k}(01)$, $Pr^{k}(10)$ and $Pr^{k}(11)$ for each binary qubit $k$ and the corresponding collapsed greyscale qubit states $0$ and $1$ for for both the image and watermark. Moreover we normalize these probabilities for each $k$ to have a higher precision."
   ]
  },
  {
   "cell_type": "code",
   "execution_count": null,
   "metadata": {},
   "outputs": [],
   "source": [
    "def get_Images(probability_vector):\n",
    "    \"\"\" Takes in an probability vector obtained from measuring all the qubits in the quantum circuit and returns\n",
    "        the corresponding matrices of the greyscale values of the measured images.\n",
    "        TO DO: vectorize this function\n",
    "    \"\"\"\n",
    "    \n",
    "    n = int(np.round(len(probability_vector)/4)) # get sizes back of classical images\n",
    "    c_Image = np.zeros(n)\n",
    "    w_Image = np.zeros(n)\n",
    "    \n",
    "    # Sum and normalize the probabilities to get the greyscale pixel value out\n",
    "    for i in range(n):\n",
    "        c_Image[i] = (probability_vector[4*i]+probability_vector[4*i+1])*255/np.sum(probability_vector[4*i:(4*i)+4])\n",
    "        w_Image[i] = (probability_vector[4*i]+probability_vector[4*i+2])*255/np.sum(probability_vector[4*i:(4*i)+4])\n",
    "    \n",
    "    c_Image = np.reshape(c_Image,[np.int(np.round(np.sqrt(n))),np.int(np.round(np.sqrt(n)))])\n",
    "    w_Image = np.reshape(w_Image,[np.int(np.round(np.sqrt(n))),np.int(np.round(np.sqrt(n)))])\n",
    "    \n",
    "    return c_Image, w_Image"
   ]
  },
  {
   "cell_type": "markdown",
   "metadata": {},
   "source": [
    "### Quantum Watermarking a Schrödinger Cat image with an IBM Logo"
   ]
  },
  {
   "cell_type": "markdown",
   "metadata": {},
   "source": [
    "We first read in our classical images and convert them to greyscale. We also resize them to the wanted $16\\times16$ shape and visualize them."
   ]
  },
  {
   "cell_type": "code",
   "execution_count": null,
   "metadata": {},
   "outputs": [],
   "source": [
    "N = 16 #size in pixels\n",
    "\n",
    "\n",
    "# Carrier Image\n",
    "img_file = os.path.expanduser(\"cat.png\")\n",
    "img = cv2.imread(img_file)\n",
    "img = cv2.cvtColor(img, cv2.COLOR_BGR2RGB)\n",
    "res = cv2.resize(img, dsize=(N, N), interpolation=cv2.INTER_CUBIC)\n",
    "C_Image = rgb2gray(res)\n",
    "\n",
    "# Watermark\n",
    "img_file2 = os.path.expanduser(\"IBM-logo.png\")\n",
    "img2 = cv2.imread(img_file2)\n",
    "img2 = cv2.cvtColor(img2, cv2.COLOR_BGR2RGB)\n",
    "res2 = cv2.resize(img2, dsize=(N, N), interpolation=cv2.INTER_CUBIC)\n",
    "W_Image = rgb2gray(res2)"
   ]
  },
  {
   "cell_type": "code",
   "execution_count": null,
   "metadata": {},
   "outputs": [],
   "source": [
    "plt.rcParams['figure.figsize'] = [9, 7]\n",
    "plt.rcParams['figure.dpi'] = 100\n",
    "\n",
    "fig, axs = plt.subplots(1,2)\n",
    "\n",
    "axs[0].imshow(C_Image/255, cmap=plt.get_cmap('gray'), vmin=0, vmax=1)\n",
    "axs[0].title.set_text('Carrier Image')\n",
    "\n",
    "axs[1].imshow(W_Image/255, cmap=plt.get_cmap('gray'), vmin=0, vmax=1)\n",
    "axs[1].title.set_text('Watermark Image')"
   ]
  },
  {
   "cell_type": "markdown",
   "metadata": {},
   "source": [
    "Next we compute and initialize quantum state vector for the watermarked quantum image. To show to initialized state in the quantum circuit one can uncomment the 3rd line for relatively small system sizes (number of qubits)."
   ]
  },
  {
   "cell_type": "code",
   "execution_count": null,
   "metadata": {},
   "outputs": [],
   "source": [
    "State_vector = get_Coeff(C_Image, W_Image)\n",
    "qc_init = initialise_state(State_vector)\n",
    "#qc_init.draw('mpl') "
   ]
  },
  {
   "cell_type": "markdown",
   "metadata": {},
   "source": [
    "Subsequently we build the quantum circuit that initializes and measures the watermarked quantum image. We also define how many shots we want on the quantum simulator. Again there is an option to visualize the circuit."
   ]
  },
  {
   "cell_type": "code",
   "execution_count": null,
   "metadata": {},
   "outputs": [],
   "source": [
    "n = int(round(np.log2(State_vector.size))) # number of qubits\n",
    "shots0 = 100000\n",
    "\n",
    "# Create a Quantum Circuit\n",
    "meas = QuantumCircuit(n, n)\n",
    "meas.barrier(range(n))\n",
    "\n",
    "# map the quantum measurement to the classical bits\n",
    "meas.measure(range(n), range(n))\n",
    "\n",
    "# The Qiskit circuit object supports composition using\n",
    "# the addition operator.\n",
    "qc = qc_init + meas\n",
    "\n",
    "#drawing the circuit\n",
    "#qc.draw('mpl')"
   ]
  },
  {
   "cell_type": "markdown",
   "metadata": {},
   "source": [
    "We run the circuit using the Aer's qasm_simulator but in the next cell also provide optional commented code to run it on one of IBMs real devices and its quantum simulator. We note that the initialize function is not available on all the IBM machines. Also you need an account on IBMQ to run this on their machines. "
   ]
  },
  {
   "cell_type": "code",
   "execution_count": null,
   "metadata": {},
   "outputs": [],
   "source": [
    "# Use Aer's qasm_simulator\n",
    "backend_sim = Aer.get_backend('qasm_simulator')\n",
    "\n",
    "# Execute the circuit on the qasm simulator.\n",
    "job_sim = execute(qc, backend_sim, shots=shots0)\n",
    "\n",
    "# Grab the results from the job.\n",
    "result_sim = job_sim.result()"
   ]
  },
  {
   "cell_type": "code",
   "execution_count": null,
   "metadata": {},
   "outputs": [],
   "source": [
    "#from qiskit import IBMQ\n",
    "#IBMQ.load_account()\n",
    "#provider = IBMQ.get_provider(\"ibm-q\")\n",
    "#backend = provider.get_backend(\"ibmq_essex\")\n",
    "#job = q.execute(qc, backend=backend, shots=shots0)\n",
    "#job_monitor(job)"
   ]
  },
  {
   "cell_type": "markdown",
   "metadata": {},
   "source": [
    "After the job is completed we get out the number of counts of each state and convert them to probabilities."
   ]
  },
  {
   "cell_type": "code",
   "execution_count": null,
   "metadata": {},
   "outputs": [],
   "source": [
    "counts = result_sim.get_counts(qc)\n",
    "probability_vector = np.zeros(2**n)\n",
    "int_counts = counts.int_outcomes()\n",
    "\n",
    "for k in range(2**n):\n",
    "    probability_vector[k] = int_counts.get(k, 0)/shots0"
   ]
  },
  {
   "cell_type": "markdown",
   "metadata": {},
   "source": [
    "Finally we get and plot our retrieved watermark and carrier image back from the get_Images function defined above."
   ]
  },
  {
   "cell_type": "code",
   "execution_count": null,
   "metadata": {},
   "outputs": [],
   "source": [
    "RC_Image, RW_Image = get_Images(probability_vector)"
   ]
  },
  {
   "cell_type": "code",
   "execution_count": null,
   "metadata": {},
   "outputs": [],
   "source": [
    "fig, axs = plt.subplots(2,2)\n",
    "\n",
    "axs[0,0].imshow(RC_Image/255, cmap=plt.get_cmap('gray'), vmin=0, vmax=1)\n",
    "axs[0,0].title.set_text('Retrieved Carrier Image')\n",
    "\n",
    "axs[0,1].imshow(C_Image/255, cmap=plt.get_cmap('gray'), vmin=0, vmax=1)\n",
    "axs[0,1].title.set_text('Original Carrier Image')\n",
    "\n",
    "axs[1,0].imshow(RW_Image/255, cmap=plt.get_cmap('gray'), vmin=0, vmax=1)\n",
    "axs[1,0].title.set_text('Retrieved Watermark Image')\n",
    "\n",
    "axs[1,1].imshow(W_Image/255, cmap=plt.get_cmap('gray'), vmin=0, vmax=1)\n",
    "axs[1,1].title.set_text('Original Watermark Image')\n",
    "\n",
    "plt.show()"
   ]
  },
  {
   "cell_type": "markdown",
   "metadata": {},
   "source": [
    "### Scrambling the watermark image"
   ]
  },
  {
   "cell_type": "markdown",
   "metadata": {},
   "source": [
    "To scramble the quantum image we apply a few controlled $U_3$ rotations to the greyscale qubit of the watermark controlled by some of the qubits encoded the pixel index $k$. We start again from the originally initialized watermarked quantum image qc_init."
   ]
  },
  {
   "cell_type": "code",
   "execution_count": null,
   "metadata": {},
   "outputs": [],
   "source": [
    "n = int(round(np.log2(State_vector.size)))\n",
    "shots0 = 100000\n",
    "\n",
    "# Create the Quantum Scramble Circuit with controlled U3 rotations \n",
    "meas = QuantumCircuit(n, n)\n",
    "meas.barrier(range(n))\n",
    "meas.cu3(np.pi/4, 0, 0, 3, 0)\n",
    "meas.cu3(-np.pi/4, 0, 0, 4, 0) \n",
    "meas.cu3(-np.pi/2, 0, 0, 5, 0) \n",
    "meas.cu3(-np.pi/3, 0, 0, 6, 0) \n",
    "meas.cu3(np.pi/2, 0, 0, 7, 0) \n",
    "\n",
    "# map the quantum measurement to the classical bits\n",
    "meas.measure(range(n), range(n))\n",
    "\n",
    "# The Qiskit circuit object supports composition using\n",
    "# the addition operator.\n",
    "qc = qc_init + meas\n",
    "\n",
    "# Optional uncomment to draw the circuit\n",
    "#qc.draw('mpl')"
   ]
  },
  {
   "cell_type": "markdown",
   "metadata": {},
   "source": [
    "We run the new circuit on the simulator."
   ]
  },
  {
   "cell_type": "code",
   "execution_count": null,
   "metadata": {},
   "outputs": [],
   "source": [
    "# Use Aer's qasm_simulator\n",
    "backend_sim = Aer.get_backend('qasm_simulator')\n",
    "\n",
    "# Execute the circuit on the qasm simulator.\n",
    "# We've set the number of repeats of the circuit\n",
    "# to be 1024, which is the default.\n",
    "job_sim = execute(qc, backend_sim, shots=shots0)\n",
    "\n",
    "# Grab the results from the job.\n",
    "result_sim = job_sim.result()"
   ]
  },
  {
   "cell_type": "markdown",
   "metadata": {},
   "source": [
    "We can convert the measurement results again the images with the get_Images function."
   ]
  },
  {
   "cell_type": "code",
   "execution_count": null,
   "metadata": {},
   "outputs": [],
   "source": [
    "counts = result_sim.get_counts(qc)\n",
    "probability_vector = np.zeros(2**n)\n",
    "int_counts = counts.int_outcomes()\n",
    "\n",
    "for k in range(2**n):\n",
    "    probability_vector[k] = int_counts.get(k, 0)/shots0"
   ]
  },
  {
   "cell_type": "code",
   "execution_count": null,
   "metadata": {},
   "outputs": [],
   "source": [
    "RRC_Image, SCrW_Image = get_Images(probability_vector)"
   ]
  },
  {
   "cell_type": "code",
   "execution_count": null,
   "metadata": {},
   "outputs": [],
   "source": [
    "fig, axs = plt.subplots(2,2)\n",
    "\n",
    "axs[0,0].imshow(RRC_Image/255, cmap=plt.get_cmap('gray'), vmin=0, vmax=1)\n",
    "axs[0,0].title.set_text('Retrieved Carrier Image')\n",
    "\n",
    "axs[0,1].imshow(C_Image/255, cmap=plt.get_cmap('gray'), vmin=0, vmax=1)\n",
    "axs[0,1].title.set_text('Original Carrier Image')\n",
    "\n",
    "\n",
    "axs[1,0].imshow(SCrW_Image/255, cmap=plt.get_cmap('gray'), vmin=0, vmax=1)\n",
    "axs[1,0].title.set_text('Scrambled Watermark Image')\n",
    "\n",
    "axs[1,1].imshow(W_Image/255, cmap=plt.get_cmap('gray'), vmin=0, vmax=1)\n",
    "axs[1,1].title.set_text('Original Watermark Image')\n",
    "\n",
    "plt.show()"
   ]
  },
  {
   "cell_type": "markdown",
   "metadata": {},
   "source": [
    "### Thanks for working through our code and feel free to contact us if there are any questions!"
   ]
  }
 ],
 "metadata": {
  "@webio": {
   "lastCommId": "c85dcf9c3c2f453684caae2a13a5357d",
   "lastKernelId": "e7589daa-a0ea-450a-b1a1-25e4b3205483"
  },
  "kernelspec": {
   "display_name": "Python 3",
   "language": "python",
   "name": "python3"
  },
  "language_info": {
   "codemirror_mode": {
    "name": "ipython",
    "version": 3
   },
   "file_extension": ".py",
   "mimetype": "text/x-python",
   "name": "python",
   "nbconvert_exporter": "python",
   "pygments_lexer": "ipython3",
   "version": "3.7.3"
  }
 },
 "nbformat": 4,
 "nbformat_minor": 2
}
