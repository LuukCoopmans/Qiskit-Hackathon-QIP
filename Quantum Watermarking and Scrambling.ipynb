{
 "cells": [
  {
   "cell_type": "markdown",
   "metadata": {},
   "source": [
    "### Quantum Watermarking - greyscale"
   ]
  },
  {
   "cell_type": "code",
   "execution_count": 1,
   "metadata": {},
   "outputs": [],
   "source": [
    "import numpy as np\n",
    "from matplotlib import pyplot as plt\n",
    "import os\n",
    "import cv2\n",
    "from qiskit import *"
   ]
  },
  {
   "cell_type": "code",
   "execution_count": 2,
   "metadata": {},
   "outputs": [],
   "source": [
    "C_Image = np.zeros([2,2,3]) # (x,y,RGB)\n",
    "\n",
    "C_Image[0,0,:] = (0,   128, 128)\n",
    "C_Image[0,1,:] = (128, 0,   128)\n",
    "C_Image[1,0,:] = (128, 128, 0)\n",
    "C_Image[1,1,:] = (128, 128, 128)"
   ]
  },
  {
   "cell_type": "code",
   "execution_count": 3,
   "metadata": {},
   "outputs": [
    {
     "data": {
      "text/plain": [
       "array([[ 89.728 ,  52.8512],\n",
       "       [113.3952, 127.9872]])"
      ]
     },
     "execution_count": 3,
     "metadata": {},
     "output_type": "execute_result"
    }
   ],
   "source": [
    "def rgb2gray(rgb):\n",
    "    return np.dot(rgb[...,:3], [0.2989, 0.5870, 0.1140])\n",
    "\n",
    "C_Image = rgb2gray(C_Image)\n",
    "C_Image"
   ]
  },
  {
   "cell_type": "code",
   "execution_count": 5,
   "metadata": {},
   "outputs": [
    {
     "data": {
      "image/png": "[encoded data removed]",
      "text/plain": [
       "<Figure size 432x288 with 1 Axes>"
      ]
     },
     "metadata": {
      "needs_background": "light"
     },
     "output_type": "display_data"
    }
   ],
   "source": [
    "plt.imshow(C_Image/256, cmap=plt.get_cmap('gray'), vmin=0, vmax=1)\n",
    "plt.show()"
   ]
  },
  {
   "cell_type": "code",
   "execution_count": 6,
   "metadata": {},
   "outputs": [
    {
     "data": {
      "text/plain": [
       "array([[ 74.7656, 254.9745],\n",
       "       [149.4412,  53.9946]])"
      ]
     },
     "execution_count": 6,
     "metadata": {},
     "output_type": "execute_result"
    }
   ],
   "source": [
    "W_Image = np.zeros([2,2,3]) # (x,y,RGB)\n",
    "\n",
    "W_Image[0,0,:] = (34,   65, 232)\n",
    "W_Image[0,1,:] = (255, 255,   255)\n",
    "W_Image[1,0,:] = (228, 128, 54)\n",
    "W_Image[1,1,:] = (54, 54, 54)\n",
    "\n",
    "W_Image = rgb2gray(W_Image)\n",
    "W_Image"
   ]
  },
  {
   "cell_type": "code",
   "execution_count": 7,
   "metadata": {},
   "outputs": [
    {
     "data": {
      "image/png": "[encoded data removed]",
      "text/plain": [
       "<Figure size 432x288 with 1 Axes>"
      ]
     },
     "metadata": {
      "needs_background": "light"
     },
     "output_type": "display_data"
    }
   ],
   "source": [
    "plt.imshow(W_Image/256, cmap=plt.get_cmap('gray'), vmin=0, vmax=1)\n",
    "plt.show()"
   ]
  },
  {
   "cell_type": "code",
   "execution_count": 151,
   "metadata": {},
   "outputs": [],
   "source": [
    "def get_Coeff(Image, watermark=None):\n",
    "    \"\"\" Function that takes in an RGB image matrix of any size and shape and returns qubit coefficients\"\"\"\n",
    "    \n",
    "    ## build in check sizes Image and watermark are the same\n",
    "    Flatten_Image = np.reshape(Image, np.shape(Image)[0]*np.shape(Image)[1])\n",
    "    Theta = Flatten_Image*np.pi/256\n",
    "    \n",
    "    if watermark is None:\n",
    "        Phi = np.zeros(len(Theta))\n",
    "    else:  \n",
    "        Flatten_watermark = np.reshape(watermark, np.shape(watermark)[0]*np.shape(watermark)[1])\n",
    "        Phi = Flatten_watermark*2*np.pi/256\n",
    "\n",
    "    N = np.ceil(np.log2(np.shape(Image)[0]*np.shape(Image)[1]))/2\n",
    "    return Phi,Theta,1/(2**N)*np.ndarray.flatten(np.transpose(np.stack((np.cos(Theta/2),np.exp(1j*Phi)*np.sin(Theta/2)))))"
   ]
  },
  {
   "cell_type": "code",
   "execution_count": 124,
   "metadata": {},
   "outputs": [
    {
     "data": {
      "text/plain": [
       "array([ 0.42611477+0.j        , -0.06831626+0.25250563j,\n",
       "        0.47393845+0.j        ,  0.1592679 -0.00400955j,\n",
       "        0.38377563+0.j        , -0.27713054-0.16098115j,\n",
       "        0.35358116+0.j        ,  0.08594517+0.34291951j])"
      ]
     },
     "execution_count": 124,
     "metadata": {},
     "output_type": "execute_result"
    }
   ],
   "source": [
    "State_vector = get_Coeff(C_Image, W_Image)[1]\n",
    "State_vector"
   ]
  },
  {
   "cell_type": "code",
   "execution_count": 104,
   "metadata": {},
   "outputs": [],
   "source": [
    "def initialise_state(desired_initial_state):\n",
    "    n = int(round(np.log2(desired_initial_state.size)))\n",
    "    \n",
    "    # if 2**n != desired_initial_state.size:\n",
    "        # don't run\n",
    "    \n",
    "    qc_init = QuantumCircuit(n)\n",
    "\n",
    "    qc_init.initialize(desired_initial_state, range(n))\n",
    "    return qc_init"
   ]
  },
  {
   "cell_type": "code",
   "execution_count": 105,
   "metadata": {},
   "outputs": [
    {
     "data": {
      "image/png": "[encoded data removed]",
      "text/plain": [
       "<Figure size 682.577x204.68 with 1 Axes>"
      ]
     },
     "execution_count": 105,
     "metadata": {},
     "output_type": "execute_result"
    }
   ],
   "source": [
    "qc_init = initialise_state(State_vector)\n",
    "qc_init.draw('mpl')"
   ]
  },
  {
   "cell_type": "code",
   "execution_count": 106,
   "metadata": {},
   "outputs": [
    {
     "data": {
      "image/png": "[encoded data removed]",
      "text/plain": [
       "<Figure size 923.377x264.88 with 1 Axes>"
      ]
     },
     "execution_count": 106,
     "metadata": {},
     "output_type": "execute_result"
    }
   ],
   "source": [
    "n = int(round(np.log2(State_vector.size)))\n",
    "shots0 = 100000\n",
    "\n",
    "# Create a Quantum Circuit\n",
    "meas = QuantumCircuit(n, n)\n",
    "meas.barrier(range(n))\n",
    "# map the quantum measurement to the classical bits\n",
    "meas.measure(range(n), range(n))\n",
    "\n",
    "# The Qiskit circuit object supports composition using\n",
    "# the addition operator.\n",
    "qc = qc_init + meas\n",
    "\n",
    "#drawing the circuit\n",
    "qc.draw('mpl')"
   ]
  },
  {
   "cell_type": "code",
   "execution_count": 107,
   "metadata": {},
   "outputs": [],
   "source": [
    "# Use Aer's qasm_simulator\n",
    "backend_sim = Aer.get_backend('qasm_simulator')\n",
    "\n",
    "# Execute the circuit on the qasm simulator.\n",
    "# We've set the number of repeats of the circuit\n",
    "# to be 1024, which is the default.\n",
    "job_sim = execute(qc, backend_sim, shots=shots0)\n",
    "\n",
    "# Grab the results from the job.\n",
    "result_sim = job_sim.result()"
   ]
  },
  {
   "cell_type": "code",
   "execution_count": 108,
   "metadata": {},
   "outputs": [
    {
     "name": "stdout",
     "output_type": "stream",
     "text": [
      "{'000': 18041, '001': 6775, '010': 22372, '011': 2547, '100': 14856, '101': 10377, '110': 12534, '111': 12498}\n"
     ]
    },
    {
     "data": {
      "image/png": "[encoded data removed]",
      "text/plain": [
       "<Figure size 504x360 with 1 Axes>"
      ]
     },
     "execution_count": 108,
     "metadata": {},
     "output_type": "execute_result"
    }
   ],
   "source": [
    "counts = result_sim.get_counts(qc)\n",
    "print(counts)\n",
    "from qiskit.visualization import plot_histogram\n",
    "plot_histogram(counts)"
   ]
  },
  {
   "cell_type": "code",
   "execution_count": 109,
   "metadata": {},
   "outputs": [
    {
     "name": "stdout",
     "output_type": "stream",
     "text": [
      "[0.18041 0.06775 0.22372 0.02547 0.14856 0.10377 0.12534 0.12498]\n"
     ]
    }
   ],
   "source": [
    "probability_vector = np.zeros(2**n)\n",
    "int_counts = counts.int_outcomes() # this changes the keys in the count object to integers so we can iterate through it easily\n",
    "\n",
    "for k in range(2**n):\n",
    "    probability_vector[k] = int_counts.get(k, 0)/shots0\n",
    "\n",
    "print(probability_vector)"
   ]
  },
  {
   "cell_type": "code",
   "execution_count": 110,
   "metadata": {},
   "outputs": [],
   "source": [
    "p0 = probability_vector[0::2]\n",
    "p1 = probability_vector[1::2]"
   ]
  },
  {
   "cell_type": "code",
   "execution_count": 161,
   "metadata": {},
   "outputs": [],
   "source": [
    "def get_RGB(P0):\n",
    "    \"\"\" Function that takes the probablity distribution for the colour qubit 0 \"\"\"\n",
    "    Theta = 2*np.arccos(np.sqrt(len(P0)*P0))\n",
    "\n",
    "    return Theta, np.reshape(Theta/np.pi*256,[np.int(np.sqrt(len(Theta))),np.int(np.sqrt(len(Theta)))])"
   ]
  },
  {
   "cell_type": "code",
   "execution_count": 162,
   "metadata": {},
   "outputs": [
    {
     "data": {
      "image/png": "[encoded data removed]",
      "text/plain": [
       "<Figure size 432x288 with 1 Axes>"
      ]
     },
     "metadata": {
      "needs_background": "light"
     },
     "output_type": "display_data"
    }
   ],
   "source": [
    "P_Image = get_RGB(p0)[1]\n",
    "plt.imshow(P_Image/256, cmap=plt.get_cmap('gray'), vmin=0, vmax=1)\n",
    "plt.show()"
   ]
  },
  {
   "cell_type": "code",
   "execution_count": 113,
   "metadata": {},
   "outputs": [
    {
     "data": {
      "image/png": "[encoded data removed]",
      "text/plain": [
       "<Figure size 432x288 with 1 Axes>"
      ]
     },
     "metadata": {
      "needs_background": "light"
     },
     "output_type": "display_data"
    }
   ],
   "source": [
    "plt.imshow(C_Image/256, cmap=plt.get_cmap('gray'), vmin=0, vmax=1)\n",
    "plt.show()"
   ]
  },
  {
   "cell_type": "markdown",
   "metadata": {},
   "source": [
    "### Extracting the watermark"
   ]
  },
  {
   "cell_type": "code",
   "execution_count": 138,
   "metadata": {},
   "outputs": [
    {
     "data": {
      "image/png": "[encoded data removed]",
      "text/plain": [
       "<Figure size 983.577x264.88 with 1 Axes>"
      ]
     },
     "execution_count": 138,
     "metadata": {},
     "output_type": "execute_result"
    }
   ],
   "source": [
    "n = int(round(np.log2(State_vector.size)))\n",
    "shots0 = 1000000\n",
    "\n",
    "# Create a Quantum Circuit\n",
    "meas_phi = QuantumCircuit(n, n)\n",
    "meas_phi.barrier(range(n))\n",
    "meas_phi.u2(np.pi, np.pi, n-1)\n",
    "# map the quantum measurement to the classical bits\n",
    "meas_phi.measure(range(n), range(n))\n",
    "\n",
    "# The Qiskit circuit object supports composition using\n",
    "# the addition operator.\n",
    "qc_phi = qc_init + meas_phi\n",
    "\n",
    "#drawing the circuit\n",
    "qc_phi.draw('mpl')"
   ]
  },
  {
   "cell_type": "code",
   "execution_count": 139,
   "metadata": {},
   "outputs": [],
   "source": [
    "# Use Aer's qasm_simulator\n",
    "backend_sim = Aer.get_backend('qasm_simulator')\n",
    "\n",
    "# Execute the circuit on the qasm simulator.\n",
    "# We've set the number of repeats of the circuit\n",
    "# to be 1024, which is the default.\n",
    "job_sim = execute(qc_phi, backend_sim, shots=shots0)\n",
    "\n",
    "# Grab the results from the job.\n",
    "result_sim = job_sim.result()"
   ]
  },
  {
   "cell_type": "code",
   "execution_count": 140,
   "metadata": {},
   "outputs": [
    {
     "name": "stdout",
     "output_type": "stream",
     "text": [
      "{'000': 327993, '001': 63645, '010': 342640, '011': 87830, '100': 958, '101': 107137, '110': 7124, '111': 62673}\n"
     ]
    },
    {
     "data": {
      "image/png": "[encoded data removed]",
      "text/plain": [
       "<Figure size 504x360 with 1 Axes>"
      ]
     },
     "execution_count": 140,
     "metadata": {},
     "output_type": "execute_result"
    }
   ],
   "source": [
    "counts = result_sim.get_counts(qc_phi)\n",
    "print(counts)\n",
    "from qiskit.visualization import plot_histogram\n",
    "plot_histogram(counts)"
   ]
  },
  {
   "cell_type": "code",
   "execution_count": 141,
   "metadata": {},
   "outputs": [
    {
     "name": "stdout",
     "output_type": "stream",
     "text": [
      "[0.327993 0.063645 0.34264  0.08783  0.000958 0.107137 0.007124 0.062673]\n"
     ]
    }
   ],
   "source": [
    "probability_vector = np.zeros(2**n)\n",
    "int_counts = counts.int_outcomes() # this changes the keys in the count object to integers so we can iterate through it easily\n",
    "\n",
    "for k in range(2**n):\n",
    "    probability_vector[k] = int_counts.get(k, 0)/shots0\n",
    "\n",
    "print(probability_vector)"
   ]
  },
  {
   "cell_type": "code",
   "execution_count": 142,
   "metadata": {},
   "outputs": [],
   "source": [
    "P0_1 = probability_vector[0::2] \n",
    "P1_1= probability_vector[1::2]"
   ]
  },
  {
   "cell_type": "code",
   "execution_count": 143,
   "metadata": {},
   "outputs": [
    {
     "data": {
      "image/png": "[encoded data removed]",
      "text/plain": [
       "<Figure size 1043.78x264.88 with 1 Axes>"
      ]
     },
     "execution_count": 143,
     "metadata": {},
     "output_type": "execute_result"
    }
   ],
   "source": [
    "n = int(round(np.log2(State_vector.size)))\n",
    "shots0 = 1000000\n",
    "\n",
    "# Create a Quantum Circuit\n",
    "meas_phi2 = QuantumCircuit(n, n)\n",
    "meas_phi2.barrier(range(n))\n",
    "meas_phi2.u2(-np.pi/2, np.pi/2, n-1)\n",
    "# map the quantum measurement to the classical bits\n",
    "meas_phi2.measure(range(n), range(n))\n",
    "\n",
    "# The Qiskit circuit object supports composition using\n",
    "# the addition operator.\n",
    "qc_phi2 = qc_init + meas_phi2\n",
    "\n",
    "#drawing the circuit\n",
    "qc_phi2.draw('mpl')"
   ]
  },
  {
   "cell_type": "code",
   "execution_count": 144,
   "metadata": {},
   "outputs": [],
   "source": [
    "# Use Aer's qasm_simulator\n",
    "backend_sim = Aer.get_backend('qasm_simulator')\n",
    "\n",
    "# Execute the circuit on the qasm simulator.\n",
    "# We've set the number of repeats of the circuit\n",
    "# to be 1024, which is the default.\n",
    "job_sim = execute(qc_phi2, backend_sim, shots=shots0)\n",
    "\n",
    "# Grab the results from the job.\n",
    "result_sim = job_sim.result()"
   ]
  },
  {
   "cell_type": "code",
   "execution_count": 145,
   "metadata": {},
   "outputs": [
    {
     "name": "stdout",
     "output_type": "stream",
     "text": [
      "{'000': 164374, '001': 166430, '010': 175052, '011': 129981, '100': 164335, '101': 4570, '110': 174781, '111': 20477}\n"
     ]
    },
    {
     "data": {
      "image/png": "[encoded data removed]",
      "text/plain": [
       "<Figure size 504x360 with 1 Axes>"
      ]
     },
     "execution_count": 145,
     "metadata": {},
     "output_type": "execute_result"
    }
   ],
   "source": [
    "counts = result_sim.get_counts(qc_phi2)\n",
    "print(counts)\n",
    "from qiskit.visualization import plot_histogram\n",
    "plot_histogram(counts)"
   ]
  },
  {
   "cell_type": "code",
   "execution_count": 146,
   "metadata": {},
   "outputs": [
    {
     "name": "stdout",
     "output_type": "stream",
     "text": [
      "[0.164374 0.16643  0.175052 0.129981 0.164335 0.00457  0.174781 0.020477]\n"
     ]
    }
   ],
   "source": [
    "probability_vector = np.zeros(2**n)\n",
    "int_counts = counts.int_outcomes() # this changes the keys in the count object to integers so we can iterate through it easily\n",
    "\n",
    "for k in range(2**n):\n",
    "    probability_vector[k] = int_counts.get(k, 0)/shots0\n",
    "\n",
    "print(probability_vector)"
   ]
  },
  {
   "cell_type": "code",
   "execution_count": 147,
   "metadata": {},
   "outputs": [],
   "source": [
    "P0_2 = probability_vector[0::2] \n",
    "P1_2 = probability_vector[1::2]"
   ]
  },
  {
   "cell_type": "code",
   "execution_count": 148,
   "metadata": {},
   "outputs": [],
   "source": [
    "x = P0_1 - P1_1\n",
    "y = P0_2 - P1_2"
   ]
  },
  {
   "cell_type": "code",
   "execution_count": 149,
   "metadata": {},
   "outputs": [],
   "source": [
    "def get_watermark(x,y):\n",
    "    \"\"\" Returns RGB watermark matrix image from the probabilities of the colour qubit being 0 (P0) or 1 P(1)\n",
    "        and the carrier image is encoded by the angles Theta.\n",
    "    \"\"\"\n",
    "    Phi = np.zeros(len(x))\n",
    "    for i in range(len(x)):\n",
    "        if x[i] > 0 and y[i] > 0:\n",
    "            Phi[i] = np.arctan(y[i]/x[i])\n",
    "        elif x[i] > 0 and y[i] < 0:\n",
    "            Phi[i] = 2*np.pi + np.arctan(y[i]/x[i])\n",
    "        elif x[i] < 0:\n",
    "            Phi[i] = np.pi + np.arctan(y[i]/x[i])\n",
    "            \n",
    "\n",
    "    return Phi, np.reshape(Phi/2/np.pi*256,[np.int(np.sqrt(len(Phi))),np.int(np.sqrt(len(Phi)))])"
   ]
  },
  {
   "cell_type": "code",
   "execution_count": 150,
   "metadata": {},
   "outputs": [
    {
     "data": {
      "text/plain": [
       "(array([6.27540784, 0.17507001, 2.15736324, 1.91634938]),\n",
       " array([[255.68311738,   7.13299378],\n",
       "        [ 87.89888608,  78.07909811]]))"
      ]
     },
     "execution_count": 150,
     "metadata": {},
     "output_type": "execute_result"
    }
   ],
   "source": [
    "get_watermark(x,y)"
   ]
  },
  {
   "cell_type": "code",
   "execution_count": 202,
   "metadata": {},
   "outputs": [
    {
     "data": {
      "text/plain": [
       "array([[ 74.7656, 254.9745],\n",
       "       [149.4412,  53.9946]])"
      ]
     },
     "execution_count": 202,
     "metadata": {},
     "output_type": "execute_result"
    }
   ],
   "source": [
    "W_Image"
   ]
  },
  {
   "cell_type": "code",
   "execution_count": 1,
   "metadata": {},
   "outputs": [
    {
     "ename": "NameError",
     "evalue": "name 'np' is not defined",
     "output_type": "error",
     "traceback": [
      "\u001b[0;31m---------------------------------------------------------------------------\u001b[0m",
      "\u001b[0;31mNameError\u001b[0m                                 Traceback (most recent call last)",
      "\u001b[0;32m<ipython-input-1-cbe0bb750246>\u001b[0m in \u001b[0;36m<module>\u001b[0;34m\u001b[0m\n\u001b[0;32m----> 1\u001b[0;31m \u001b[0mx_check\u001b[0m \u001b[0;34m=\u001b[0m \u001b[0mnp\u001b[0m\u001b[0;34m.\u001b[0m\u001b[0mcos\u001b[0m\u001b[0;34m(\u001b[0m\u001b[0mget_Coeff\u001b[0m\u001b[0;34m(\u001b[0m\u001b[0mC_Image\u001b[0m\u001b[0;34m,\u001b[0m \u001b[0mW_Image\u001b[0m\u001b[0;34m)\u001b[0m\u001b[0;34m[\u001b[0m\u001b[0;36m0\u001b[0m\u001b[0;34m]\u001b[0m\u001b[0;34m)\u001b[0m\u001b[0;34m*\u001b[0m\u001b[0mnp\u001b[0m\u001b[0;34m.\u001b[0m\u001b[0msin\u001b[0m\u001b[0;34m(\u001b[0m\u001b[0mget_Coeff\u001b[0m\u001b[0;34m(\u001b[0m\u001b[0mC_Image\u001b[0m\u001b[0;34m,\u001b[0m \u001b[0mW_Image\u001b[0m\u001b[0;34m)\u001b[0m\u001b[0;34m[\u001b[0m\u001b[0;36m1\u001b[0m\u001b[0;34m]\u001b[0m\u001b[0;34m)\u001b[0m\u001b[0;34m\u001b[0m\u001b[0;34m\u001b[0m\u001b[0m\n\u001b[0m\u001b[1;32m      2\u001b[0m \u001b[0my_check\u001b[0m \u001b[0;34m=\u001b[0m \u001b[0mnp\u001b[0m\u001b[0;34m.\u001b[0m\u001b[0msin\u001b[0m\u001b[0;34m(\u001b[0m\u001b[0mget_Coeff\u001b[0m\u001b[0;34m(\u001b[0m\u001b[0mC_Image\u001b[0m\u001b[0;34m,\u001b[0m \u001b[0mW_Image\u001b[0m\u001b[0;34m)\u001b[0m\u001b[0;34m[\u001b[0m\u001b[0;36m0\u001b[0m\u001b[0;34m]\u001b[0m\u001b[0;34m)\u001b[0m\u001b[0;34m*\u001b[0m\u001b[0mnp\u001b[0m\u001b[0;34m.\u001b[0m\u001b[0msin\u001b[0m\u001b[0;34m(\u001b[0m\u001b[0mget_Coeff\u001b[0m\u001b[0;34m(\u001b[0m\u001b[0mC_Image\u001b[0m\u001b[0;34m,\u001b[0m \u001b[0mW_Image\u001b[0m\u001b[0;34m)\u001b[0m\u001b[0;34m[\u001b[0m\u001b[0;36m1\u001b[0m\u001b[0;34m]\u001b[0m\u001b[0;34m)\u001b[0m\u001b[0;34m\u001b[0m\u001b[0;34m\u001b[0m\u001b[0m\n\u001b[1;32m      3\u001b[0m \u001b[0;34m\u001b[0m\u001b[0m\n\u001b[1;32m      4\u001b[0m \u001b[0mprint\u001b[0m\u001b[0;34m(\u001b[0m\u001b[0mx_check\u001b[0m\u001b[0;34m)\u001b[0m\u001b[0;34m\u001b[0m\u001b[0;34m\u001b[0m\u001b[0m\n\u001b[1;32m      5\u001b[0m \u001b[0mprint\u001b[0m\u001b[0;34m(\u001b[0m\u001b[0mx\u001b[0m\u001b[0;34m)\u001b[0m\u001b[0;34m\u001b[0m\u001b[0;34m\u001b[0m\u001b[0m\n",
      "\u001b[0;31mNameError\u001b[0m: name 'np' is not defined"
     ]
    }
   ],
   "source": [
    "x_check = np.cos(get_Coeff(C_Image, W_Image)[0])*np.sin(get_Coeff(C_Image, W_Image)[1])\n",
    "y_check = np.sin(get_Coeff(C_Image, W_Image)[0])*np.sin(get_Coeff(C_Image, W_Image)[1])\n",
    "\n",
    "print(x_check)\n",
    "print(x)"
   ]
  },
  {
   "cell_type": "markdown",
   "metadata": {},
   "source": [
    "### Bigger Image"
   ]
  },
  {
   "cell_type": "code",
   "execution_count": 43,
   "metadata": {},
   "outputs": [],
   "source": [
    "img_file = os.path.expanduser(\"IBM-logo.png\")"
   ]
  },
  {
   "cell_type": "code",
   "execution_count": 96,
   "metadata": {},
   "outputs": [],
   "source": [
    "img = cv2.imread(img_file)\n",
    "img = cv2.cvtColor(img, cv2.COLOR_BGR2RGB)\n",
    "res = cv2.resize(img, dsize=(32, 32), interpolation=cv2.INTER_CUBIC)"
   ]
  },
  {
   "cell_type": "code",
   "execution_count": 97,
   "metadata": {},
   "outputs": [
    {
     "data": {
      "text/plain": [
       "<matplotlib.image.AxesImage at 0x7fa394f9a438>"
      ]
     },
     "execution_count": 97,
     "metadata": {},
     "output_type": "execute_result"
    },
    {
     "data": {
      "image/png": "[encoded data removed]",
      "text/plain": [
       "<Figure size 432x288 with 1 Axes>"
      ]
     },
     "metadata": {
      "needs_background": "light"
     },
     "output_type": "display_data"
    }
   ],
   "source": [
    "plt.imshow(res)"
   ]
  },
  {
   "cell_type": "code",
   "execution_count": 130,
   "metadata": {},
   "outputs": [
    {
     "data": {
      "text/plain": [
       "<matplotlib.image.AxesImage at 0x7fa395081ac8>"
      ]
     },
     "execution_count": 130,
     "metadata": {},
     "output_type": "execute_result"
    },
    {
     "data": {
      "image/png": "[encoded data removed]",
      "text/plain": [
       "<Figure size 432x288 with 1 Axes>"
      ]
     },
     "metadata": {
      "needs_background": "light"
     },
     "output_type": "display_data"
    }
   ],
   "source": [
    "C_Image = rgb2gray(res)\n",
    "plt.imshow(C_Image/256, cmap=plt.get_cmap('gray'), vmin=0, vmax=1)"
   ]
  },
  {
   "cell_type": "code",
   "execution_count": 83,
   "metadata": {},
   "outputs": [
    {
     "data": {
      "text/plain": [
       "array([0.01104941+0.j, 0.01104768+0.j, 0.01104941+0.j, ...,\n",
       "       0.01104768+0.j, 0.01104941+0.j, 0.01104768+0.j])"
      ]
     },
     "execution_count": 83,
     "metadata": {},
     "output_type": "execute_result"
    }
   ],
   "source": [
    "State_vector = get_Coeff(C_Image)\n",
    "State_vector"
   ]
  },
  {
   "cell_type": "code",
   "execution_count": null,
   "metadata": {},
   "outputs": [],
   "source": []
  }
 ],
 "metadata": {
  "@webio": {
   "lastCommId": "b8d796f545ff41a387bc16a6e5720727",
   "lastKernelId": "6ef44d15-255d-4e02-9b58-4f403b118ab4"
  },
  "kernelspec": {
   "display_name": "Python 3",
   "language": "python",
   "name": "python3"
  },
  "language_info": {
   "codemirror_mode": {
    "name": "ipython",
    "version": 3
   },
   "file_extension": ".py",
   "mimetype": "text/x-python",
   "name": "python",
   "nbconvert_exporter": "python",
   "pygments_lexer": "ipython3",
   "version": "3.7.3"
  }
 },
 "nbformat": 4,
 "nbformat_minor": 2
}
