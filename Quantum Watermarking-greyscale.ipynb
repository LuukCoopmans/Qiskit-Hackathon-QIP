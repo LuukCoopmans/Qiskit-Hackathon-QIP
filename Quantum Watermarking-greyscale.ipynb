{
 "cells": [
  {
   "cell_type": "markdown",
   "metadata": {},
   "source": [
    "### Quantum Watermarking - greyscale"
   ]
  },
  {
   "cell_type": "code",
   "execution_count": 3,
   "metadata": {},
   "outputs": [],
   "source": [
    "import numpy as np\n",
    "from matplotlib import pyplot as plt\n",
    "import os\n",
    "import cv2\n",
    "from qiskit import *"
   ]
  },
  {
   "cell_type": "code",
   "execution_count": 151,
   "metadata": {},
   "outputs": [],
   "source": [
    "C_Image = np.zeros([2,2,3]) # (x,y,RGB)\n",
    "\n",
    "C_Image[0,0,:] = (0,   128, 128)\n",
    "C_Image[0,1,:] = (128, 0,   128)\n",
    "C_Image[1,0,:] = (128, 128, 0)\n",
    "C_Image[1,1,:] = (128, 128, 128)"
   ]
  },
  {
   "cell_type": "code",
   "execution_count": 152,
   "metadata": {},
   "outputs": [
    {
     "data": {
      "text/plain": [
       "array([[ 89.728 ,  52.8512],\n",
       "       [113.3952, 127.9872]])"
      ]
     },
     "execution_count": 152,
     "metadata": {},
     "output_type": "execute_result"
    }
   ],
   "source": [
    "def rgb2gray(rgb):\n",
    "    return np.dot(rgb[...,:3], [0.2989, 0.5870, 0.1140])\n",
    "\n",
    "C_Image = rgb2gray(C_Image)\n",
    "C_Image"
   ]
  },
  {
   "cell_type": "code",
   "execution_count": 153,
   "metadata": {},
   "outputs": [
    {
     "data": {
      "image/png": "[encoded data removed]",
      "text/plain": [
       "<Figure size 432x288 with 1 Axes>"
      ]
     },
     "metadata": {
      "needs_background": "light"
     },
     "output_type": "display_data"
    }
   ],
   "source": [
    "plt.imshow(gray/256, cmap=plt.get_cmap('gray'), vmin=0, vmax=1)\n",
    "plt.show()"
   ]
  },
  {
   "cell_type": "code",
   "execution_count": 154,
   "metadata": {},
   "outputs": [
    {
     "data": {
      "text/plain": [
       "array([[ 74.7656, 254.9745],\n",
       "       [149.4412,  53.9946]])"
      ]
     },
     "execution_count": 154,
     "metadata": {},
     "output_type": "execute_result"
    }
   ],
   "source": [
    "W_Image = np.zeros([2,2,3]) # (x,y,RGB)\n",
    "\n",
    "W_Image[0,0,:] = (34,   65, 232)\n",
    "W_Image[0,1,:] = (255, 255,   255)\n",
    "W_Image[1,0,:] = (228, 128, 54)\n",
    "W_Image[1,1,:] = (54, 54, 54)\n",
    "\n",
    "W_Image = rgb2gray(W_Image)\n",
    "W_Image"
   ]
  },
  {
   "cell_type": "code",
   "execution_count": 155,
   "metadata": {},
   "outputs": [
    {
     "data": {
      "image/png": "[encoded data removed]",
      "text/plain": [
       "<Figure size 432x288 with 1 Axes>"
      ]
     },
     "metadata": {
      "needs_background": "light"
     },
     "output_type": "display_data"
    }
   ],
   "source": [
    "plt.imshow(W_Image/256, cmap=plt.get_cmap('gray'), vmin=0, vmax=1)\n",
    "plt.show()"
   ]
  },
  {
   "cell_type": "code",
   "execution_count": 182,
   "metadata": {},
   "outputs": [],
   "source": [
    "def get_Coeff(Image, watermark=None):\n",
    "    \"\"\" Function that takes in an RGB image matrix of any size and shape and returns qubit coefficients\"\"\"\n",
    "    \n",
    "    ## build in check sizes Image and watermark are the same\n",
    "    Flatten_Image = np.reshape(Image, np.shape(Image)[0]*np.shape(Image)[1])\n",
    "    Theta = Flatten_Image*np.pi/255\n",
    "    \n",
    "    if watermark is None:\n",
    "        Phi = np.zeros(len(Theta))\n",
    "    else:  \n",
    "        Flatten_watermark = np.reshape(watermark, np.shape(watermark)[0]*np.shape(watermark)[1])\n",
    "        Phi = Flatten_watermark*np.pi/255\n",
    "\n",
    "    N = np.ceil(np.log2(np.shape(Image)[0]*np.shape(Image)[1]))/2\n",
    "    return Theta,1/(2**N)*np.ndarray.flatten(np.transpose(np.stack((np.cos(Theta/2),np.exp(1j*Phi)*np.sin(Theta/2)))))"
   ]
  },
  {
   "cell_type": "code",
   "execution_count": 184,
   "metadata": {},
   "outputs": [
    {
     "data": {
      "text/plain": [
       "array([ 0.42554899+0.00000000e+00j,  0.15879795+2.09024559e-01j,\n",
       "        0.47373546+0.00000000e+00j, -0.15992095+5.02406493e-05j,\n",
       "        0.38289971+0.00000000e+00j, -0.08586236+3.09863626e-01j,\n",
       "        0.35249073+0.00000000e+00j,  0.27900444+2.18876235e-01j])"
      ]
     },
     "execution_count": 184,
     "metadata": {},
     "output_type": "execute_result"
    }
   ],
   "source": [
    "State_vector = get_Coeff(C_Image, W_Image)[1]\n",
    "State_vector"
   ]
  },
  {
   "cell_type": "code",
   "execution_count": 185,
   "metadata": {},
   "outputs": [],
   "source": [
    "def initialise_state(desired_initial_state):\n",
    "    n = int(round(np.log2(desired_initial_state.size)))\n",
    "    \n",
    "    # if 2**n != desired_initial_state.size:\n",
    "        # don't run\n",
    "    \n",
    "    qc_init = QuantumCircuit(n)\n",
    "\n",
    "    qc_init.initialize(desired_initial_state, range(n))\n",
    "    return qc_init"
   ]
  },
  {
   "cell_type": "code",
   "execution_count": 186,
   "metadata": {},
   "outputs": [],
   "source": [
    "qc_init = initialise_state(State_vector)\n",
    "#qc_init.draw('mpl')"
   ]
  },
  {
   "cell_type": "code",
   "execution_count": 187,
   "metadata": {},
   "outputs": [
    {
     "data": {
      "image/png": "[encoded data removed]",
      "text/plain": [
       "<Figure size 923.377x264.88 with 1 Axes>"
      ]
     },
     "execution_count": 187,
     "metadata": {},
     "output_type": "execute_result"
    }
   ],
   "source": [
    "n = int(round(np.log2(State_vector.size)))\n",
    "shots0 = 100000\n",
    "\n",
    "# Create a Quantum Circuit\n",
    "meas = QuantumCircuit(n, n)\n",
    "meas.barrier(range(n))\n",
    "# map the quantum measurement to the classical bits\n",
    "meas.measure(range(n), range(n))\n",
    "\n",
    "# The Qiskit circuit object supports composition using\n",
    "# the addition operator.\n",
    "qc = qc_init + meas\n",
    "\n",
    "#drawing the circuit\n",
    "qc.draw('mpl')"
   ]
  },
  {
   "cell_type": "code",
   "execution_count": 188,
   "metadata": {},
   "outputs": [],
   "source": [
    "# Use Aer's qasm_simulator\n",
    "backend_sim = Aer.get_backend('qasm_simulator')\n",
    "\n",
    "# Execute the circuit on the qasm simulator.\n",
    "# We've set the number of repeats of the circuit\n",
    "# to be 1024, which is the default.\n",
    "job_sim = execute(qc, backend_sim, shots=shots0)\n",
    "\n",
    "# Grab the results from the job.\n",
    "result_sim = job_sim.result()"
   ]
  },
  {
   "cell_type": "code",
   "execution_count": 189,
   "metadata": {},
   "outputs": [
    {
     "name": "stdout",
     "output_type": "stream",
     "text": [
      "{'000': 18060, '001': 6783, '010': 22576, '011': 2484, '100': 14590, '101': 10424, '110': 12433, '111': 12650}\n"
     ]
    },
    {
     "data": {
      "image/png": "[encoded data removed]",
      "text/plain": [
       "<Figure size 504x360 with 1 Axes>"
      ]
     },
     "execution_count": 189,
     "metadata": {},
     "output_type": "execute_result"
    }
   ],
   "source": [
    "counts = result_sim.get_counts(qc)\n",
    "print(counts)\n",
    "from qiskit.visualization import plot_histogram\n",
    "plot_histogram(counts)"
   ]
  },
  {
   "cell_type": "code",
   "execution_count": 190,
   "metadata": {},
   "outputs": [
    {
     "name": "stdout",
     "output_type": "stream",
     "text": [
      "[0.1806  0.06783 0.22576 0.02484 0.1459  0.10424 0.12433 0.1265 ]\n"
     ]
    }
   ],
   "source": [
    "probability_vector = np.zeros(2**n)\n",
    "int_counts = counts.int_outcomes() # this changes the keys in the count object to integers so we can iterate through it easily\n",
    "\n",
    "for k in range(2**n):\n",
    "    probability_vector[k] = int_counts.get(k, 0)/shots0\n",
    "\n",
    "print(probability_vector)"
   ]
  },
  {
   "cell_type": "code",
   "execution_count": 191,
   "metadata": {},
   "outputs": [],
   "source": [
    "p0 = probability_vector[0::2]\n",
    "p1 = probability_vector[1::2]"
   ]
  },
  {
   "cell_type": "code",
   "execution_count": 192,
   "metadata": {},
   "outputs": [],
   "source": [
    "def get_RGB(P0):\n",
    "    \"\"\" Function that takes the probablity distribution for the colour qubit 0 \"\"\"\n",
    "    Theta = 2*np.arccos(np.sqrt(len(P0)*P0))\n",
    "\n",
    "    return Theta, np.reshape(Theta/np.pi*255,[np.int(np.sqrt(len(Theta))),np.int(np.sqrt(len(Theta)))])"
   ]
  },
  {
   "cell_type": "code",
   "execution_count": 193,
   "metadata": {},
   "outputs": [
    {
     "data": {
      "image/png": "[encoded data removed]",
      "text/plain": [
       "<Figure size 432x288 with 1 Axes>"
      ]
     },
     "metadata": {
      "needs_background": "light"
     },
     "output_type": "display_data"
    }
   ],
   "source": [
    "P_Image = get_RGB(p0)[1]\n",
    "plt.imshow(P_Image/256, cmap=plt.get_cmap('gray'), vmin=0, vmax=1)\n",
    "plt.show()"
   ]
  },
  {
   "cell_type": "code",
   "execution_count": 194,
   "metadata": {},
   "outputs": [
    {
     "data": {
      "image/png": "[encoded data removed]",
      "text/plain": [
       "<Figure size 432x288 with 1 Axes>"
      ]
     },
     "metadata": {
      "needs_background": "light"
     },
     "output_type": "display_data"
    }
   ],
   "source": [
    "plt.imshow(C_Image/256, cmap=plt.get_cmap('gray'), vmin=0, vmax=1)\n",
    "plt.show()"
   ]
  },
  {
   "cell_type": "markdown",
   "metadata": {},
   "source": [
    "### Extracting the watermark"
   ]
  },
  {
   "cell_type": "code",
   "execution_count": 195,
   "metadata": {},
   "outputs": [
    {
     "data": {
      "image/png": "[encoded data removed]",
      "text/plain": [
       "<Figure size 983.577x264.88 with 1 Axes>"
      ]
     },
     "execution_count": 195,
     "metadata": {},
     "output_type": "execute_result"
    }
   ],
   "source": [
    "n = int(round(np.log2(State_vector.size)))\n",
    "shots0 = 1000000\n",
    "\n",
    "# Create a Quantum Circuit\n",
    "meas_phi = QuantumCircuit(n, n)\n",
    "meas_phi.barrier(range(n))\n",
    "meas_phi.u2(np.pi, np.pi, n-1)\n",
    "# map the quantum measurement to the classical bits\n",
    "meas_phi.measure(range(n), range(n))\n",
    "\n",
    "# The Qiskit circuit object supports composition using\n",
    "# the addition operator.\n",
    "qc_phi = qc_init + meas_phi\n",
    "\n",
    "#drawing the circuit\n",
    "qc_phi.draw('mpl')"
   ]
  },
  {
   "cell_type": "code",
   "execution_count": 196,
   "metadata": {},
   "outputs": [],
   "source": [
    "# Use Aer's qasm_simulator\n",
    "backend_sim = Aer.get_backend('qasm_simulator')\n",
    "\n",
    "# Execute the circuit on the qasm simulator.\n",
    "# We've set the number of repeats of the circuit\n",
    "# to be 1024, which is the default.\n",
    "job_sim = execute(qc_phi, backend_sim, shots=shots0)\n",
    "\n",
    "# Grab the results from the job.\n",
    "result_sim = job_sim.result()"
   ]
  },
  {
   "cell_type": "code",
   "execution_count": 197,
   "metadata": {},
   "outputs": [
    {
     "name": "stdout",
     "output_type": "stream",
     "text": [
      "{'000': 326429, '001': 137478, '010': 341576, '011': 31147, '100': 905, '101': 35221, '110': 7244, '111': 120000}\n"
     ]
    },
    {
     "data": {
      "image/png": "[encoded data removed]",
      "text/plain": [
       "<Figure size 504x360 with 1 Axes>"
      ]
     },
     "execution_count": 197,
     "metadata": {},
     "output_type": "execute_result"
    }
   ],
   "source": [
    "counts = result_sim.get_counts(qc_phi)\n",
    "print(counts)\n",
    "from qiskit.visualization import plot_histogram\n",
    "plot_histogram(counts)"
   ]
  },
  {
   "cell_type": "code",
   "execution_count": 198,
   "metadata": {},
   "outputs": [
    {
     "name": "stdout",
     "output_type": "stream",
     "text": [
      "[0.326429 0.137478 0.341576 0.031147 0.000905 0.035221 0.007244 0.12    ]\n"
     ]
    }
   ],
   "source": [
    "probability_vector = np.zeros(2**n)\n",
    "int_counts = counts.int_outcomes() # this changes the keys in the count object to integers so we can iterate through it easily\n",
    "\n",
    "for k in range(2**n):\n",
    "    probability_vector[k] = int_counts.get(k, 0)/shots0\n",
    "\n",
    "print(probability_vector)"
   ]
  },
  {
   "cell_type": "code",
   "execution_count": 199,
   "metadata": {},
   "outputs": [],
   "source": [
    "P0 = probability_vector[0::2] \n",
    "P1 = probability_vector[1::2]"
   ]
  },
  {
   "cell_type": "code",
   "execution_count": 200,
   "metadata": {},
   "outputs": [],
   "source": [
    "def get_watermark(P0,P1,Theta):\n",
    "    \"\"\" Returns RGB watermark matrix image from the probabilities of the colour qubit being 0 (P0) or 1 P(1)\n",
    "        and the carrier image is encoded by the angles Theta.\n",
    "    \"\"\"\n",
    "    Phi = np.arccos((P0 - P1)/np.sin(Theta))\n",
    "    \n",
    "    return np.reshape(Phi/np.pi*255,[np.int(np.sqrt(len(Phi))),np.int(np.sqrt(len(Phi)))])"
   ]
  },
  {
   "cell_type": "code",
   "execution_count": 201,
   "metadata": {},
   "outputs": [
    {
     "data": {
      "text/plain": [
       "array([[110.24613358,  82.68007106],\n",
       "       [130.32573673, 136.67193183]])"
      ]
     },
     "execution_count": 201,
     "metadata": {},
     "output_type": "execute_result"
    }
   ],
   "source": [
    "Theta = get_RGB(p0)[0]\n",
    "\n",
    "get_watermark(P0,P1,Theta)\n"
   ]
  },
  {
   "cell_type": "code",
   "execution_count": 202,
   "metadata": {},
   "outputs": [
    {
     "data": {
      "text/plain": [
       "array([[ 74.7656, 254.9745],\n",
       "       [149.4412,  53.9946]])"
      ]
     },
     "execution_count": 202,
     "metadata": {},
     "output_type": "execute_result"
    }
   ],
   "source": [
    "W_Image"
   ]
  },
  {
   "cell_type": "markdown",
   "metadata": {},
   "source": [
    "### Bigger Image"
   ]
  },
  {
   "cell_type": "code",
   "execution_count": 43,
   "metadata": {},
   "outputs": [],
   "source": [
    "img_file = os.path.expanduser(\"IBM-logo.png\")"
   ]
  },
  {
   "cell_type": "code",
   "execution_count": 96,
   "metadata": {},
   "outputs": [],
   "source": [
    "img = cv2.imread(img_file)\n",
    "img = cv2.cvtColor(img, cv2.COLOR_BGR2RGB)\n",
    "res = cv2.resize(img, dsize=(32, 32), interpolation=cv2.INTER_CUBIC)"
   ]
  },
  {
   "cell_type": "code",
   "execution_count": 97,
   "metadata": {},
   "outputs": [
    {
     "data": {
      "text/plain": [
       "<matplotlib.image.AxesImage at 0x7fa394f9a438>"
      ]
     },
     "execution_count": 97,
     "metadata": {},
     "output_type": "execute_result"
    },
    {
     "data": {
      "image/png": "[encoded data removed]",
      "text/plain": [
       "<Figure size 432x288 with 1 Axes>"
      ]
     },
     "metadata": {
      "needs_background": "light"
     },
     "output_type": "display_data"
    }
   ],
   "source": [
    "plt.imshow(res)"
   ]
  },
  {
   "cell_type": "code",
   "execution_count": 130,
   "metadata": {},
   "outputs": [
    {
     "data": {
      "text/plain": [
       "<matplotlib.image.AxesImage at 0x7fa395081ac8>"
      ]
     },
     "execution_count": 130,
     "metadata": {},
     "output_type": "execute_result"
    },
    {
     "data": {
      "image/png": "[encoded data removed]",
      "text/plain": [
       "<Figure size 432x288 with 1 Axes>"
      ]
     },
     "metadata": {
      "needs_background": "light"
     },
     "output_type": "display_data"
    }
   ],
   "source": [
    "C_Image = rgb2gray(res)\n",
    "plt.imshow(C_Image/256, cmap=plt.get_cmap('gray'), vmin=0, vmax=1)"
   ]
  },
  {
   "cell_type": "code",
   "execution_count": 83,
   "metadata": {},
   "outputs": [
    {
     "data": {
      "text/plain": [
       "array([0.01104941+0.j, 0.01104768+0.j, 0.01104941+0.j, ...,\n",
       "       0.01104768+0.j, 0.01104941+0.j, 0.01104768+0.j])"
      ]
     },
     "execution_count": 83,
     "metadata": {},
     "output_type": "execute_result"
    }
   ],
   "source": [
    "State_vector = get_Coeff(C_Image)\n",
    "State_vector"
   ]
  },
  {
   "cell_type": "code",
   "execution_count": null,
   "metadata": {},
   "outputs": [],
   "source": []
  }
 ],
 "metadata": {
  "@webio": {
   "lastCommId": "ac7beb38e17f46f08e9694a050b6ce6c",
   "lastKernelId": "408aa045-34f5-45bf-bf54-4fdbcc89a8c3"
  },
  "kernelspec": {
   "display_name": "Python 3",
   "language": "python",
   "name": "python3"
  },
  "language_info": {
   "codemirror_mode": {
    "name": "ipython",
    "version": 3
   },
   "file_extension": ".py",
   "mimetype": "text/x-python",
   "name": "python",
   "nbconvert_exporter": "python",
   "pygments_lexer": "ipython3",
   "version": "3.7.3"
  }
 },
 "nbformat": 4,
 "nbformat_minor": 2
}
